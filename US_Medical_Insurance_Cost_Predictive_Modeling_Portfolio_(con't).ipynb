{
  "nbformat": 4,
  "nbformat_minor": 0,
  "metadata": {
    "colab": {
      "provenance": [],
      "authorship_tag": "ABX9TyPXgd44UBTeht9+Y8QlllwI",
      "include_colab_link": true
    },
    "kernelspec": {
      "name": "python3",
      "display_name": "Python 3"
    },
    "language_info": {
      "name": "python"
    },
    "widgets": {
      "application/vnd.jupyter.widget-state+json": {
        "f0f3bc6c7cf94191b8e27f4d53605452": {
          "model_module": "@jupyter-widgets/controls",
          "model_name": "VBoxModel",
          "model_module_version": "1.5.0",
          "state": {
            "_dom_classes": [
              "widget-interact"
            ],
            "_model_module": "@jupyter-widgets/controls",
            "_model_module_version": "1.5.0",
            "_model_name": "VBoxModel",
            "_view_count": null,
            "_view_module": "@jupyter-widgets/controls",
            "_view_module_version": "1.5.0",
            "_view_name": "VBoxView",
            "box_style": "",
            "children": [
              "IPY_MODEL_ace386569ef1454f884c9817f1c4a35a",
              "IPY_MODEL_717311612d664657b6a94e814bd91b02"
            ],
            "layout": "IPY_MODEL_77b56fb24df147c6b9cfd9a429154303"
          }
        },
        "ace386569ef1454f884c9817f1c4a35a": {
          "model_module": "@jupyter-widgets/controls",
          "model_name": "ToggleButtonsModel",
          "model_module_version": "1.5.0",
          "state": {
            "_dom_classes": [],
            "_model_module": "@jupyter-widgets/controls",
            "_model_module_version": "1.5.0",
            "_model_name": "ToggleButtonsModel",
            "_options_labels": [
              "Pipeline Plot",
              "Hyperparameters",
              "Residuals",
              "Prediction Error",
              "Cooks Distance",
              "Feature Selection",
              "Learning Curve",
              "Manifold Learning",
              "Validation Curve",
              "Feature Importance",
              "Feature Importance (All)",
              "Decision Tree",
              "Interactive Residuals"
            ],
            "_view_count": null,
            "_view_module": "@jupyter-widgets/controls",
            "_view_module_version": "1.5.0",
            "_view_name": "ToggleButtonsView",
            "button_style": "",
            "description": "Plot Type:",
            "description_tooltip": null,
            "disabled": false,
            "icons": [
              ""
            ],
            "index": 10,
            "layout": "IPY_MODEL_fa456347d9304b1297d1785deeefcdab",
            "style": "IPY_MODEL_87184468db664790a794c674c1d42176",
            "tooltips": []
          }
        },
        "717311612d664657b6a94e814bd91b02": {
          "model_module": "@jupyter-widgets/output",
          "model_name": "OutputModel",
          "model_module_version": "1.0.0",
          "state": {
            "_dom_classes": [],
            "_model_module": "@jupyter-widgets/output",
            "_model_module_version": "1.0.0",
            "_model_name": "OutputModel",
            "_view_count": null,
            "_view_module": "@jupyter-widgets/output",
            "_view_module_version": "1.0.0",
            "_view_name": "OutputView",
            "layout": "IPY_MODEL_4fa4e08fa8e84fe88847968f672d2322",
            "msg_id": "",
            "outputs": [
              {
                "output_type": "error",
                "ename": "AttributeError",
                "evalue": "ignored",
                "traceback": [
                  "\u001b[0;31m---------------------------------------------------------------------------\u001b[0m",
                  "\u001b[0;31mAttributeError\u001b[0m                            Traceback (most recent call last)",
                  "\u001b[0;32m/usr/lib/python3.10/unittest/mock.py\u001b[0m in \u001b[0;36m_dot_lookup\u001b[0;34m(thing, comp, import_path)\u001b[0m\n\u001b[1;32m   1247\u001b[0m     \u001b[0;32mtry\u001b[0m\u001b[0;34m:\u001b[0m\u001b[0;34m\u001b[0m\u001b[0;34m\u001b[0m\u001b[0m\n\u001b[0;32m-> 1248\u001b[0;31m         \u001b[0;32mreturn\u001b[0m \u001b[0mgetattr\u001b[0m\u001b[0;34m(\u001b[0m\u001b[0mthing\u001b[0m\u001b[0;34m,\u001b[0m \u001b[0mcomp\u001b[0m\u001b[0;34m)\u001b[0m\u001b[0;34m\u001b[0m\u001b[0;34m\u001b[0m\u001b[0m\n\u001b[0m\u001b[1;32m   1249\u001b[0m     \u001b[0;32mexcept\u001b[0m \u001b[0mAttributeError\u001b[0m\u001b[0;34m:\u001b[0m\u001b[0;34m\u001b[0m\u001b[0;34m\u001b[0m\u001b[0m\n",
                  "\u001b[0;31mAttributeError\u001b[0m: module 'yellowbrick.utils' has no attribute 'types'",
                  "\nDuring handling of the above exception, another exception occurred:\n",
                  "\u001b[0;31mAttributeError\u001b[0m                            Traceback (most recent call last)",
                  "\u001b[0;32m/usr/local/lib/python3.10/dist-packages/ipywidgets/widgets/interaction.py\u001b[0m in \u001b[0;36mupdate\u001b[0;34m(self, *args)\u001b[0m\n\u001b[1;32m    255\u001b[0m                     \u001b[0mvalue\u001b[0m \u001b[0;34m=\u001b[0m \u001b[0mwidget\u001b[0m\u001b[0;34m.\u001b[0m\u001b[0mget_interact_value\u001b[0m\u001b[0;34m(\u001b[0m\u001b[0;34m)\u001b[0m\u001b[0;34m\u001b[0m\u001b[0;34m\u001b[0m\u001b[0m\n\u001b[1;32m    256\u001b[0m                     \u001b[0mself\u001b[0m\u001b[0;34m.\u001b[0m\u001b[0mkwargs\u001b[0m\u001b[0;34m[\u001b[0m\u001b[0mwidget\u001b[0m\u001b[0;34m.\u001b[0m\u001b[0m_kwarg\u001b[0m\u001b[0;34m]\u001b[0m \u001b[0;34m=\u001b[0m \u001b[0mvalue\u001b[0m\u001b[0;34m\u001b[0m\u001b[0;34m\u001b[0m\u001b[0m\n\u001b[0;32m--> 257\u001b[0;31m                 \u001b[0mself\u001b[0m\u001b[0;34m.\u001b[0m\u001b[0mresult\u001b[0m \u001b[0;34m=\u001b[0m \u001b[0mself\u001b[0m\u001b[0;34m.\u001b[0m\u001b[0mf\u001b[0m\u001b[0;34m(\u001b[0m\u001b[0;34m**\u001b[0m\u001b[0mself\u001b[0m\u001b[0;34m.\u001b[0m\u001b[0mkwargs\u001b[0m\u001b[0;34m)\u001b[0m\u001b[0;34m\u001b[0m\u001b[0;34m\u001b[0m\u001b[0m\n\u001b[0m\u001b[1;32m    258\u001b[0m                 \u001b[0mshow_inline_matplotlib_plots\u001b[0m\u001b[0;34m(\u001b[0m\u001b[0;34m)\u001b[0m\u001b[0;34m\u001b[0m\u001b[0;34m\u001b[0m\u001b[0m\n\u001b[1;32m    259\u001b[0m                 \u001b[0;32mif\u001b[0m \u001b[0mself\u001b[0m\u001b[0;34m.\u001b[0m\u001b[0mauto_display\u001b[0m \u001b[0;32mand\u001b[0m \u001b[0mself\u001b[0m\u001b[0;34m.\u001b[0m\u001b[0mresult\u001b[0m \u001b[0;32mis\u001b[0m \u001b[0;32mnot\u001b[0m \u001b[0;32mNone\u001b[0m\u001b[0;34m:\u001b[0m\u001b[0;34m\u001b[0m\u001b[0;34m\u001b[0m\u001b[0m\n",
                  "\u001b[0;32m/usr/local/lib/python3.10/dist-packages/pycaret/internal/pycaret_experiment/tabular_experiment.py\u001b[0m in \u001b[0;36m_plot_model\u001b[0;34m(self, estimator, plot, scale, save, fold, fit_kwargs, plot_kwargs, groups, feature_name, label, verbose, system, display, display_format)\u001b[0m\n\u001b[1;32m    530\u001b[0m         \u001b[0mmodel_name\u001b[0m \u001b[0;34m=\u001b[0m \u001b[0mself\u001b[0m\u001b[0;34m.\u001b[0m\u001b[0m_get_model_name\u001b[0m\u001b[0;34m(\u001b[0m\u001b[0mmodel\u001b[0m\u001b[0;34m)\u001b[0m\u001b[0;34m\u001b[0m\u001b[0;34m\u001b[0m\u001b[0m\n\u001b[1;32m    531\u001b[0m         \u001b[0mbase_plot_filename\u001b[0m \u001b[0;34m=\u001b[0m \u001b[0;34mf\"{plot_name}.png\"\u001b[0m\u001b[0;34m\u001b[0m\u001b[0;34m\u001b[0m\u001b[0m\n\u001b[0;32m--> 532\u001b[0;31m         with patch(\n\u001b[0m\u001b[1;32m    533\u001b[0m             \u001b[0;34m\"yellowbrick.utils.types.is_estimator\"\u001b[0m\u001b[0;34m,\u001b[0m\u001b[0;34m\u001b[0m\u001b[0;34m\u001b[0m\u001b[0m\n\u001b[1;32m    534\u001b[0m             \u001b[0mpycaret\u001b[0m\u001b[0;34m.\u001b[0m\u001b[0minternal\u001b[0m\u001b[0;34m.\u001b[0m\u001b[0mpatches\u001b[0m\u001b[0;34m.\u001b[0m\u001b[0myellowbrick\u001b[0m\u001b[0;34m.\u001b[0m\u001b[0mis_estimator\u001b[0m\u001b[0;34m,\u001b[0m\u001b[0;34m\u001b[0m\u001b[0;34m\u001b[0m\u001b[0m\n",
                  "\u001b[0;32m/usr/lib/python3.10/unittest/mock.py\u001b[0m in \u001b[0;36m__enter__\u001b[0;34m(self)\u001b[0m\n\u001b[1;32m   1429\u001b[0m         \u001b[0mautospec\u001b[0m\u001b[0;34m,\u001b[0m \u001b[0mkwargs\u001b[0m \u001b[0;34m=\u001b[0m \u001b[0mself\u001b[0m\u001b[0;34m.\u001b[0m\u001b[0mautospec\u001b[0m\u001b[0;34m,\u001b[0m \u001b[0mself\u001b[0m\u001b[0;34m.\u001b[0m\u001b[0mkwargs\u001b[0m\u001b[0;34m\u001b[0m\u001b[0;34m\u001b[0m\u001b[0m\n\u001b[1;32m   1430\u001b[0m         \u001b[0mnew_callable\u001b[0m \u001b[0;34m=\u001b[0m \u001b[0mself\u001b[0m\u001b[0;34m.\u001b[0m\u001b[0mnew_callable\u001b[0m\u001b[0;34m\u001b[0m\u001b[0;34m\u001b[0m\u001b[0m\n\u001b[0;32m-> 1431\u001b[0;31m         \u001b[0mself\u001b[0m\u001b[0;34m.\u001b[0m\u001b[0mtarget\u001b[0m \u001b[0;34m=\u001b[0m \u001b[0mself\u001b[0m\u001b[0;34m.\u001b[0m\u001b[0mgetter\u001b[0m\u001b[0;34m(\u001b[0m\u001b[0;34m)\u001b[0m\u001b[0;34m\u001b[0m\u001b[0;34m\u001b[0m\u001b[0m\n\u001b[0m\u001b[1;32m   1432\u001b[0m \u001b[0;34m\u001b[0m\u001b[0m\n\u001b[1;32m   1433\u001b[0m         \u001b[0;31m# normalise False to None\u001b[0m\u001b[0;34m\u001b[0m\u001b[0;34m\u001b[0m\u001b[0m\n",
                  "\u001b[0;32m/usr/lib/python3.10/unittest/mock.py\u001b[0m in \u001b[0;36m<lambda>\u001b[0;34m()\u001b[0m\n\u001b[1;32m   1616\u001b[0m         raise TypeError(\n\u001b[1;32m   1617\u001b[0m             f\"Need a valid target to patch. You supplied: {target!r}\")\n\u001b[0;32m-> 1618\u001b[0;31m     \u001b[0mgetter\u001b[0m \u001b[0;34m=\u001b[0m \u001b[0;32mlambda\u001b[0m\u001b[0;34m:\u001b[0m \u001b[0m_importer\u001b[0m\u001b[0;34m(\u001b[0m\u001b[0mtarget\u001b[0m\u001b[0;34m)\u001b[0m\u001b[0;34m\u001b[0m\u001b[0;34m\u001b[0m\u001b[0m\n\u001b[0m\u001b[1;32m   1619\u001b[0m     \u001b[0;32mreturn\u001b[0m \u001b[0mgetter\u001b[0m\u001b[0;34m,\u001b[0m \u001b[0mattribute\u001b[0m\u001b[0;34m\u001b[0m\u001b[0;34m\u001b[0m\u001b[0m\n\u001b[1;32m   1620\u001b[0m \u001b[0;34m\u001b[0m\u001b[0m\n",
                  "\u001b[0;32m/usr/lib/python3.10/unittest/mock.py\u001b[0m in \u001b[0;36m_importer\u001b[0;34m(target)\u001b[0m\n\u001b[1;32m   1259\u001b[0m     \u001b[0;32mfor\u001b[0m \u001b[0mcomp\u001b[0m \u001b[0;32min\u001b[0m \u001b[0mcomponents\u001b[0m\u001b[0;34m:\u001b[0m\u001b[0;34m\u001b[0m\u001b[0;34m\u001b[0m\u001b[0m\n\u001b[1;32m   1260\u001b[0m         \u001b[0mimport_path\u001b[0m \u001b[0;34m+=\u001b[0m \u001b[0;34m\".%s\"\u001b[0m \u001b[0;34m%\u001b[0m \u001b[0mcomp\u001b[0m\u001b[0;34m\u001b[0m\u001b[0;34m\u001b[0m\u001b[0m\n\u001b[0;32m-> 1261\u001b[0;31m         \u001b[0mthing\u001b[0m \u001b[0;34m=\u001b[0m \u001b[0m_dot_lookup\u001b[0m\u001b[0;34m(\u001b[0m\u001b[0mthing\u001b[0m\u001b[0;34m,\u001b[0m \u001b[0mcomp\u001b[0m\u001b[0;34m,\u001b[0m \u001b[0mimport_path\u001b[0m\u001b[0;34m)\u001b[0m\u001b[0;34m\u001b[0m\u001b[0;34m\u001b[0m\u001b[0m\n\u001b[0m\u001b[1;32m   1262\u001b[0m     \u001b[0;32mreturn\u001b[0m \u001b[0mthing\u001b[0m\u001b[0;34m\u001b[0m\u001b[0;34m\u001b[0m\u001b[0m\n\u001b[1;32m   1263\u001b[0m \u001b[0;34m\u001b[0m\u001b[0m\n",
                  "\u001b[0;32m/usr/lib/python3.10/unittest/mock.py\u001b[0m in \u001b[0;36m_dot_lookup\u001b[0;34m(thing, comp, import_path)\u001b[0m\n\u001b[1;32m   1249\u001b[0m     \u001b[0;32mexcept\u001b[0m \u001b[0mAttributeError\u001b[0m\u001b[0;34m:\u001b[0m\u001b[0;34m\u001b[0m\u001b[0;34m\u001b[0m\u001b[0m\n\u001b[1;32m   1250\u001b[0m         \u001b[0m__import__\u001b[0m\u001b[0;34m(\u001b[0m\u001b[0mimport_path\u001b[0m\u001b[0;34m)\u001b[0m\u001b[0;34m\u001b[0m\u001b[0;34m\u001b[0m\u001b[0m\n\u001b[0;32m-> 1251\u001b[0;31m         \u001b[0;32mreturn\u001b[0m \u001b[0mgetattr\u001b[0m\u001b[0;34m(\u001b[0m\u001b[0mthing\u001b[0m\u001b[0;34m,\u001b[0m \u001b[0mcomp\u001b[0m\u001b[0;34m)\u001b[0m\u001b[0;34m\u001b[0m\u001b[0;34m\u001b[0m\u001b[0m\n\u001b[0m\u001b[1;32m   1252\u001b[0m \u001b[0;34m\u001b[0m\u001b[0m\n\u001b[1;32m   1253\u001b[0m \u001b[0;34m\u001b[0m\u001b[0m\n",
                  "\u001b[0;31mAttributeError\u001b[0m: module 'yellowbrick.utils' has no attribute 'types'"
                ]
              }
            ]
          }
        },
        "77b56fb24df147c6b9cfd9a429154303": {
          "model_module": "@jupyter-widgets/base",
          "model_name": "LayoutModel",
          "model_module_version": "1.2.0",
          "state": {
            "_model_module": "@jupyter-widgets/base",
            "_model_module_version": "1.2.0",
            "_model_name": "LayoutModel",
            "_view_count": null,
            "_view_module": "@jupyter-widgets/base",
            "_view_module_version": "1.2.0",
            "_view_name": "LayoutView",
            "align_content": null,
            "align_items": null,
            "align_self": null,
            "border": null,
            "bottom": null,
            "display": null,
            "flex": null,
            "flex_flow": null,
            "grid_area": null,
            "grid_auto_columns": null,
            "grid_auto_flow": null,
            "grid_auto_rows": null,
            "grid_column": null,
            "grid_gap": null,
            "grid_row": null,
            "grid_template_areas": null,
            "grid_template_columns": null,
            "grid_template_rows": null,
            "height": null,
            "justify_content": null,
            "justify_items": null,
            "left": null,
            "margin": null,
            "max_height": null,
            "max_width": null,
            "min_height": null,
            "min_width": null,
            "object_fit": null,
            "object_position": null,
            "order": null,
            "overflow": null,
            "overflow_x": null,
            "overflow_y": null,
            "padding": null,
            "right": null,
            "top": null,
            "visibility": null,
            "width": null
          }
        },
        "fa456347d9304b1297d1785deeefcdab": {
          "model_module": "@jupyter-widgets/base",
          "model_name": "LayoutModel",
          "model_module_version": "1.2.0",
          "state": {
            "_model_module": "@jupyter-widgets/base",
            "_model_module_version": "1.2.0",
            "_model_name": "LayoutModel",
            "_view_count": null,
            "_view_module": "@jupyter-widgets/base",
            "_view_module_version": "1.2.0",
            "_view_name": "LayoutView",
            "align_content": null,
            "align_items": null,
            "align_self": null,
            "border": null,
            "bottom": null,
            "display": null,
            "flex": null,
            "flex_flow": null,
            "grid_area": null,
            "grid_auto_columns": null,
            "grid_auto_flow": null,
            "grid_auto_rows": null,
            "grid_column": null,
            "grid_gap": null,
            "grid_row": null,
            "grid_template_areas": null,
            "grid_template_columns": null,
            "grid_template_rows": null,
            "height": null,
            "justify_content": null,
            "justify_items": null,
            "left": null,
            "margin": null,
            "max_height": null,
            "max_width": null,
            "min_height": null,
            "min_width": null,
            "object_fit": null,
            "object_position": null,
            "order": null,
            "overflow": null,
            "overflow_x": null,
            "overflow_y": null,
            "padding": null,
            "right": null,
            "top": null,
            "visibility": null,
            "width": null
          }
        },
        "87184468db664790a794c674c1d42176": {
          "model_module": "@jupyter-widgets/controls",
          "model_name": "ToggleButtonsStyleModel",
          "model_module_version": "1.5.0",
          "state": {
            "_model_module": "@jupyter-widgets/controls",
            "_model_module_version": "1.5.0",
            "_model_name": "ToggleButtonsStyleModel",
            "_view_count": null,
            "_view_module": "@jupyter-widgets/base",
            "_view_module_version": "1.2.0",
            "_view_name": "StyleView",
            "button_width": "",
            "description_width": "",
            "font_weight": ""
          }
        },
        "4fa4e08fa8e84fe88847968f672d2322": {
          "model_module": "@jupyter-widgets/base",
          "model_name": "LayoutModel",
          "model_module_version": "1.2.0",
          "state": {
            "_model_module": "@jupyter-widgets/base",
            "_model_module_version": "1.2.0",
            "_model_name": "LayoutModel",
            "_view_count": null,
            "_view_module": "@jupyter-widgets/base",
            "_view_module_version": "1.2.0",
            "_view_name": "LayoutView",
            "align_content": null,
            "align_items": null,
            "align_self": null,
            "border": null,
            "bottom": null,
            "display": null,
            "flex": null,
            "flex_flow": null,
            "grid_area": null,
            "grid_auto_columns": null,
            "grid_auto_flow": null,
            "grid_auto_rows": null,
            "grid_column": null,
            "grid_gap": null,
            "grid_row": null,
            "grid_template_areas": null,
            "grid_template_columns": null,
            "grid_template_rows": null,
            "height": null,
            "justify_content": null,
            "justify_items": null,
            "left": null,
            "margin": null,
            "max_height": null,
            "max_width": null,
            "min_height": null,
            "min_width": null,
            "object_fit": null,
            "object_position": null,
            "order": null,
            "overflow": null,
            "overflow_x": null,
            "overflow_y": null,
            "padding": null,
            "right": null,
            "top": null,
            "visibility": null,
            "width": null
          }
        },
        "d20cef83576b48f4a6690295df5a24ae": {
          "model_module": "@jupyter-widgets/controls",
          "model_name": "HBoxModel",
          "model_module_version": "1.5.0",
          "state": {
            "_dom_classes": [],
            "_model_module": "@jupyter-widgets/controls",
            "_model_module_version": "1.5.0",
            "_model_name": "HBoxModel",
            "_view_count": null,
            "_view_module": "@jupyter-widgets/controls",
            "_view_module_version": "1.5.0",
            "_view_name": "HBoxView",
            "box_style": "",
            "children": [
              "IPY_MODEL_751f42fc98f545e59c95f1531bc3b6a9",
              "IPY_MODEL_e74c85fb1aa447a9a927bfcd116fac1c",
              "IPY_MODEL_6d15658f292a42f5b4c4984000eb900d"
            ],
            "layout": "IPY_MODEL_0b599dd4d367417d997ad172bebc923b"
          }
        },
        "751f42fc98f545e59c95f1531bc3b6a9": {
          "model_module": "@jupyter-widgets/controls",
          "model_name": "HTMLModel",
          "model_module_version": "1.5.0",
          "state": {
            "_dom_classes": [],
            "_model_module": "@jupyter-widgets/controls",
            "_model_module_version": "1.5.0",
            "_model_name": "HTMLModel",
            "_view_count": null,
            "_view_module": "@jupyter-widgets/controls",
            "_view_module_version": "1.5.0",
            "_view_name": "HTMLView",
            "description": "",
            "description_tooltip": null,
            "layout": "IPY_MODEL_8fe2cc1f44624a3789709615c935b5ae",
            "placeholder": "​",
            "style": "IPY_MODEL_c55c9bd575934eddac3aa7deb00ecfd7",
            "value": "Processing: 100%"
          }
        },
        "e74c85fb1aa447a9a927bfcd116fac1c": {
          "model_module": "@jupyter-widgets/controls",
          "model_name": "FloatProgressModel",
          "model_module_version": "1.5.0",
          "state": {
            "_dom_classes": [],
            "_model_module": "@jupyter-widgets/controls",
            "_model_module_version": "1.5.0",
            "_model_name": "FloatProgressModel",
            "_view_count": null,
            "_view_module": "@jupyter-widgets/controls",
            "_view_module_version": "1.5.0",
            "_view_name": "ProgressView",
            "bar_style": "",
            "description": "",
            "description_tooltip": null,
            "layout": "IPY_MODEL_17cf7e4d0a214df2b41d7ff3d35c9554",
            "max": 4,
            "min": 0,
            "orientation": "horizontal",
            "style": "IPY_MODEL_e1f87b4c7fc24f7c862de704b8c30e75",
            "value": 4
          }
        },
        "6d15658f292a42f5b4c4984000eb900d": {
          "model_module": "@jupyter-widgets/controls",
          "model_name": "HTMLModel",
          "model_module_version": "1.5.0",
          "state": {
            "_dom_classes": [],
            "_model_module": "@jupyter-widgets/controls",
            "_model_module_version": "1.5.0",
            "_model_name": "HTMLModel",
            "_view_count": null,
            "_view_module": "@jupyter-widgets/controls",
            "_view_module_version": "1.5.0",
            "_view_name": "HTMLView",
            "description": "",
            "description_tooltip": null,
            "layout": "IPY_MODEL_bda7f1b5aff64ad4bd0eef6283d5cac7",
            "placeholder": "​",
            "style": "IPY_MODEL_9207eeb5c3694f55866e03e674650e97",
            "value": " 4/4 [00:02&lt;00:00,  1.42it/s]"
          }
        },
        "0b599dd4d367417d997ad172bebc923b": {
          "model_module": "@jupyter-widgets/base",
          "model_name": "LayoutModel",
          "model_module_version": "1.2.0",
          "state": {
            "_model_module": "@jupyter-widgets/base",
            "_model_module_version": "1.2.0",
            "_model_name": "LayoutModel",
            "_view_count": null,
            "_view_module": "@jupyter-widgets/base",
            "_view_module_version": "1.2.0",
            "_view_name": "LayoutView",
            "align_content": null,
            "align_items": null,
            "align_self": null,
            "border": null,
            "bottom": null,
            "display": null,
            "flex": null,
            "flex_flow": null,
            "grid_area": null,
            "grid_auto_columns": null,
            "grid_auto_flow": null,
            "grid_auto_rows": null,
            "grid_column": null,
            "grid_gap": null,
            "grid_row": null,
            "grid_template_areas": null,
            "grid_template_columns": null,
            "grid_template_rows": null,
            "height": null,
            "justify_content": null,
            "justify_items": null,
            "left": null,
            "margin": null,
            "max_height": null,
            "max_width": null,
            "min_height": null,
            "min_width": null,
            "object_fit": null,
            "object_position": null,
            "order": null,
            "overflow": null,
            "overflow_x": null,
            "overflow_y": null,
            "padding": null,
            "right": null,
            "top": null,
            "visibility": "hidden",
            "width": null
          }
        },
        "8fe2cc1f44624a3789709615c935b5ae": {
          "model_module": "@jupyter-widgets/base",
          "model_name": "LayoutModel",
          "model_module_version": "1.2.0",
          "state": {
            "_model_module": "@jupyter-widgets/base",
            "_model_module_version": "1.2.0",
            "_model_name": "LayoutModel",
            "_view_count": null,
            "_view_module": "@jupyter-widgets/base",
            "_view_module_version": "1.2.0",
            "_view_name": "LayoutView",
            "align_content": null,
            "align_items": null,
            "align_self": null,
            "border": null,
            "bottom": null,
            "display": null,
            "flex": null,
            "flex_flow": null,
            "grid_area": null,
            "grid_auto_columns": null,
            "grid_auto_flow": null,
            "grid_auto_rows": null,
            "grid_column": null,
            "grid_gap": null,
            "grid_row": null,
            "grid_template_areas": null,
            "grid_template_columns": null,
            "grid_template_rows": null,
            "height": null,
            "justify_content": null,
            "justify_items": null,
            "left": null,
            "margin": null,
            "max_height": null,
            "max_width": null,
            "min_height": null,
            "min_width": null,
            "object_fit": null,
            "object_position": null,
            "order": null,
            "overflow": null,
            "overflow_x": null,
            "overflow_y": null,
            "padding": null,
            "right": null,
            "top": null,
            "visibility": null,
            "width": null
          }
        },
        "c55c9bd575934eddac3aa7deb00ecfd7": {
          "model_module": "@jupyter-widgets/controls",
          "model_name": "DescriptionStyleModel",
          "model_module_version": "1.5.0",
          "state": {
            "_model_module": "@jupyter-widgets/controls",
            "_model_module_version": "1.5.0",
            "_model_name": "DescriptionStyleModel",
            "_view_count": null,
            "_view_module": "@jupyter-widgets/base",
            "_view_module_version": "1.2.0",
            "_view_name": "StyleView",
            "description_width": ""
          }
        },
        "17cf7e4d0a214df2b41d7ff3d35c9554": {
          "model_module": "@jupyter-widgets/base",
          "model_name": "LayoutModel",
          "model_module_version": "1.2.0",
          "state": {
            "_model_module": "@jupyter-widgets/base",
            "_model_module_version": "1.2.0",
            "_model_name": "LayoutModel",
            "_view_count": null,
            "_view_module": "@jupyter-widgets/base",
            "_view_module_version": "1.2.0",
            "_view_name": "LayoutView",
            "align_content": null,
            "align_items": null,
            "align_self": null,
            "border": null,
            "bottom": null,
            "display": null,
            "flex": null,
            "flex_flow": null,
            "grid_area": null,
            "grid_auto_columns": null,
            "grid_auto_flow": null,
            "grid_auto_rows": null,
            "grid_column": null,
            "grid_gap": null,
            "grid_row": null,
            "grid_template_areas": null,
            "grid_template_columns": null,
            "grid_template_rows": null,
            "height": null,
            "justify_content": null,
            "justify_items": null,
            "left": null,
            "margin": null,
            "max_height": null,
            "max_width": null,
            "min_height": null,
            "min_width": null,
            "object_fit": null,
            "object_position": null,
            "order": null,
            "overflow": null,
            "overflow_x": null,
            "overflow_y": null,
            "padding": null,
            "right": null,
            "top": null,
            "visibility": null,
            "width": null
          }
        },
        "e1f87b4c7fc24f7c862de704b8c30e75": {
          "model_module": "@jupyter-widgets/controls",
          "model_name": "ProgressStyleModel",
          "model_module_version": "1.5.0",
          "state": {
            "_model_module": "@jupyter-widgets/controls",
            "_model_module_version": "1.5.0",
            "_model_name": "ProgressStyleModel",
            "_view_count": null,
            "_view_module": "@jupyter-widgets/base",
            "_view_module_version": "1.2.0",
            "_view_name": "StyleView",
            "bar_color": null,
            "description_width": ""
          }
        },
        "bda7f1b5aff64ad4bd0eef6283d5cac7": {
          "model_module": "@jupyter-widgets/base",
          "model_name": "LayoutModel",
          "model_module_version": "1.2.0",
          "state": {
            "_model_module": "@jupyter-widgets/base",
            "_model_module_version": "1.2.0",
            "_model_name": "LayoutModel",
            "_view_count": null,
            "_view_module": "@jupyter-widgets/base",
            "_view_module_version": "1.2.0",
            "_view_name": "LayoutView",
            "align_content": null,
            "align_items": null,
            "align_self": null,
            "border": null,
            "bottom": null,
            "display": null,
            "flex": null,
            "flex_flow": null,
            "grid_area": null,
            "grid_auto_columns": null,
            "grid_auto_flow": null,
            "grid_auto_rows": null,
            "grid_column": null,
            "grid_gap": null,
            "grid_row": null,
            "grid_template_areas": null,
            "grid_template_columns": null,
            "grid_template_rows": null,
            "height": null,
            "justify_content": null,
            "justify_items": null,
            "left": null,
            "margin": null,
            "max_height": null,
            "max_width": null,
            "min_height": null,
            "min_width": null,
            "object_fit": null,
            "object_position": null,
            "order": null,
            "overflow": null,
            "overflow_x": null,
            "overflow_y": null,
            "padding": null,
            "right": null,
            "top": null,
            "visibility": null,
            "width": null
          }
        },
        "9207eeb5c3694f55866e03e674650e97": {
          "model_module": "@jupyter-widgets/controls",
          "model_name": "DescriptionStyleModel",
          "model_module_version": "1.5.0",
          "state": {
            "_model_module": "@jupyter-widgets/controls",
            "_model_module_version": "1.5.0",
            "_model_name": "DescriptionStyleModel",
            "_view_count": null,
            "_view_module": "@jupyter-widgets/base",
            "_view_module_version": "1.2.0",
            "_view_name": "StyleView",
            "description_width": ""
          }
        },
        "cf10d6ba9cf147fda1bc600f0690fa37": {
          "model_module": "@jupyter-widgets/controls",
          "model_name": "HBoxModel",
          "model_module_version": "1.5.0",
          "state": {
            "_dom_classes": [],
            "_model_module": "@jupyter-widgets/controls",
            "_model_module_version": "1.5.0",
            "_model_name": "HBoxModel",
            "_view_count": null,
            "_view_module": "@jupyter-widgets/controls",
            "_view_module_version": "1.5.0",
            "_view_name": "HBoxView",
            "box_style": "",
            "children": [
              "IPY_MODEL_c2269333c9d14b25b96914b91832bdd6",
              "IPY_MODEL_58f8904518344c119888b017cfc4f802",
              "IPY_MODEL_28c9fc8a20ed4c5a929c8f858a9a8cd3"
            ],
            "layout": "IPY_MODEL_b759609e0e89443e9ccb6f9c8e209dde"
          }
        },
        "c2269333c9d14b25b96914b91832bdd6": {
          "model_module": "@jupyter-widgets/controls",
          "model_name": "HTMLModel",
          "model_module_version": "1.5.0",
          "state": {
            "_dom_classes": [],
            "_model_module": "@jupyter-widgets/controls",
            "_model_module_version": "1.5.0",
            "_model_name": "HTMLModel",
            "_view_count": null,
            "_view_module": "@jupyter-widgets/controls",
            "_view_module_version": "1.5.0",
            "_view_name": "HTMLView",
            "description": "",
            "description_tooltip": null,
            "layout": "IPY_MODEL_6eae2d719f78400bb5b4e904fc08067c",
            "placeholder": "​",
            "style": "IPY_MODEL_af5b7f5472c441baa357048fb4c8a47f",
            "value": "Processing: 100%"
          }
        },
        "58f8904518344c119888b017cfc4f802": {
          "model_module": "@jupyter-widgets/controls",
          "model_name": "FloatProgressModel",
          "model_module_version": "1.5.0",
          "state": {
            "_dom_classes": [],
            "_model_module": "@jupyter-widgets/controls",
            "_model_module_version": "1.5.0",
            "_model_name": "FloatProgressModel",
            "_view_count": null,
            "_view_module": "@jupyter-widgets/controls",
            "_view_module_version": "1.5.0",
            "_view_name": "ProgressView",
            "bar_style": "",
            "description": "",
            "description_tooltip": null,
            "layout": "IPY_MODEL_2b9e71f2b54140d18c20eebe8cce3970",
            "max": 7,
            "min": 0,
            "orientation": "horizontal",
            "style": "IPY_MODEL_c7693cb1025f48f292a08b8b68762159",
            "value": 7
          }
        },
        "28c9fc8a20ed4c5a929c8f858a9a8cd3": {
          "model_module": "@jupyter-widgets/controls",
          "model_name": "HTMLModel",
          "model_module_version": "1.5.0",
          "state": {
            "_dom_classes": [],
            "_model_module": "@jupyter-widgets/controls",
            "_model_module_version": "1.5.0",
            "_model_name": "HTMLModel",
            "_view_count": null,
            "_view_module": "@jupyter-widgets/controls",
            "_view_module_version": "1.5.0",
            "_view_name": "HTMLView",
            "description": "",
            "description_tooltip": null,
            "layout": "IPY_MODEL_150f65e3127c4cf5bd698fa77e10781d",
            "placeholder": "​",
            "style": "IPY_MODEL_ddcb5a5847274346ac5d7d690d88cf17",
            "value": " 7/7 [00:27&lt;00:00,  3.20s/it]"
          }
        },
        "b759609e0e89443e9ccb6f9c8e209dde": {
          "model_module": "@jupyter-widgets/base",
          "model_name": "LayoutModel",
          "model_module_version": "1.2.0",
          "state": {
            "_model_module": "@jupyter-widgets/base",
            "_model_module_version": "1.2.0",
            "_model_name": "LayoutModel",
            "_view_count": null,
            "_view_module": "@jupyter-widgets/base",
            "_view_module_version": "1.2.0",
            "_view_name": "LayoutView",
            "align_content": null,
            "align_items": null,
            "align_self": null,
            "border": null,
            "bottom": null,
            "display": null,
            "flex": null,
            "flex_flow": null,
            "grid_area": null,
            "grid_auto_columns": null,
            "grid_auto_flow": null,
            "grid_auto_rows": null,
            "grid_column": null,
            "grid_gap": null,
            "grid_row": null,
            "grid_template_areas": null,
            "grid_template_columns": null,
            "grid_template_rows": null,
            "height": null,
            "justify_content": null,
            "justify_items": null,
            "left": null,
            "margin": null,
            "max_height": null,
            "max_width": null,
            "min_height": null,
            "min_width": null,
            "object_fit": null,
            "object_position": null,
            "order": null,
            "overflow": null,
            "overflow_x": null,
            "overflow_y": null,
            "padding": null,
            "right": null,
            "top": null,
            "visibility": "hidden",
            "width": null
          }
        },
        "6eae2d719f78400bb5b4e904fc08067c": {
          "model_module": "@jupyter-widgets/base",
          "model_name": "LayoutModel",
          "model_module_version": "1.2.0",
          "state": {
            "_model_module": "@jupyter-widgets/base",
            "_model_module_version": "1.2.0",
            "_model_name": "LayoutModel",
            "_view_count": null,
            "_view_module": "@jupyter-widgets/base",
            "_view_module_version": "1.2.0",
            "_view_name": "LayoutView",
            "align_content": null,
            "align_items": null,
            "align_self": null,
            "border": null,
            "bottom": null,
            "display": null,
            "flex": null,
            "flex_flow": null,
            "grid_area": null,
            "grid_auto_columns": null,
            "grid_auto_flow": null,
            "grid_auto_rows": null,
            "grid_column": null,
            "grid_gap": null,
            "grid_row": null,
            "grid_template_areas": null,
            "grid_template_columns": null,
            "grid_template_rows": null,
            "height": null,
            "justify_content": null,
            "justify_items": null,
            "left": null,
            "margin": null,
            "max_height": null,
            "max_width": null,
            "min_height": null,
            "min_width": null,
            "object_fit": null,
            "object_position": null,
            "order": null,
            "overflow": null,
            "overflow_x": null,
            "overflow_y": null,
            "padding": null,
            "right": null,
            "top": null,
            "visibility": null,
            "width": null
          }
        },
        "af5b7f5472c441baa357048fb4c8a47f": {
          "model_module": "@jupyter-widgets/controls",
          "model_name": "DescriptionStyleModel",
          "model_module_version": "1.5.0",
          "state": {
            "_model_module": "@jupyter-widgets/controls",
            "_model_module_version": "1.5.0",
            "_model_name": "DescriptionStyleModel",
            "_view_count": null,
            "_view_module": "@jupyter-widgets/base",
            "_view_module_version": "1.2.0",
            "_view_name": "StyleView",
            "description_width": ""
          }
        },
        "2b9e71f2b54140d18c20eebe8cce3970": {
          "model_module": "@jupyter-widgets/base",
          "model_name": "LayoutModel",
          "model_module_version": "1.2.0",
          "state": {
            "_model_module": "@jupyter-widgets/base",
            "_model_module_version": "1.2.0",
            "_model_name": "LayoutModel",
            "_view_count": null,
            "_view_module": "@jupyter-widgets/base",
            "_view_module_version": "1.2.0",
            "_view_name": "LayoutView",
            "align_content": null,
            "align_items": null,
            "align_self": null,
            "border": null,
            "bottom": null,
            "display": null,
            "flex": null,
            "flex_flow": null,
            "grid_area": null,
            "grid_auto_columns": null,
            "grid_auto_flow": null,
            "grid_auto_rows": null,
            "grid_column": null,
            "grid_gap": null,
            "grid_row": null,
            "grid_template_areas": null,
            "grid_template_columns": null,
            "grid_template_rows": null,
            "height": null,
            "justify_content": null,
            "justify_items": null,
            "left": null,
            "margin": null,
            "max_height": null,
            "max_width": null,
            "min_height": null,
            "min_width": null,
            "object_fit": null,
            "object_position": null,
            "order": null,
            "overflow": null,
            "overflow_x": null,
            "overflow_y": null,
            "padding": null,
            "right": null,
            "top": null,
            "visibility": null,
            "width": null
          }
        },
        "c7693cb1025f48f292a08b8b68762159": {
          "model_module": "@jupyter-widgets/controls",
          "model_name": "ProgressStyleModel",
          "model_module_version": "1.5.0",
          "state": {
            "_model_module": "@jupyter-widgets/controls",
            "_model_module_version": "1.5.0",
            "_model_name": "ProgressStyleModel",
            "_view_count": null,
            "_view_module": "@jupyter-widgets/base",
            "_view_module_version": "1.2.0",
            "_view_name": "StyleView",
            "bar_color": null,
            "description_width": ""
          }
        },
        "150f65e3127c4cf5bd698fa77e10781d": {
          "model_module": "@jupyter-widgets/base",
          "model_name": "LayoutModel",
          "model_module_version": "1.2.0",
          "state": {
            "_model_module": "@jupyter-widgets/base",
            "_model_module_version": "1.2.0",
            "_model_name": "LayoutModel",
            "_view_count": null,
            "_view_module": "@jupyter-widgets/base",
            "_view_module_version": "1.2.0",
            "_view_name": "LayoutView",
            "align_content": null,
            "align_items": null,
            "align_self": null,
            "border": null,
            "bottom": null,
            "display": null,
            "flex": null,
            "flex_flow": null,
            "grid_area": null,
            "grid_auto_columns": null,
            "grid_auto_flow": null,
            "grid_auto_rows": null,
            "grid_column": null,
            "grid_gap": null,
            "grid_row": null,
            "grid_template_areas": null,
            "grid_template_columns": null,
            "grid_template_rows": null,
            "height": null,
            "justify_content": null,
            "justify_items": null,
            "left": null,
            "margin": null,
            "max_height": null,
            "max_width": null,
            "min_height": null,
            "min_width": null,
            "object_fit": null,
            "object_position": null,
            "order": null,
            "overflow": null,
            "overflow_x": null,
            "overflow_y": null,
            "padding": null,
            "right": null,
            "top": null,
            "visibility": null,
            "width": null
          }
        },
        "ddcb5a5847274346ac5d7d690d88cf17": {
          "model_module": "@jupyter-widgets/controls",
          "model_name": "DescriptionStyleModel",
          "model_module_version": "1.5.0",
          "state": {
            "_model_module": "@jupyter-widgets/controls",
            "_model_module_version": "1.5.0",
            "_model_name": "DescriptionStyleModel",
            "_view_count": null,
            "_view_module": "@jupyter-widgets/base",
            "_view_module_version": "1.2.0",
            "_view_name": "StyleView",
            "description_width": ""
          }
        },
        "b35b91d0594e4996a5eec8e4dfe83cd7": {
          "model_module": "@jupyter-widgets/controls",
          "model_name": "HBoxModel",
          "model_module_version": "1.5.0",
          "state": {
            "_dom_classes": [],
            "_model_module": "@jupyter-widgets/controls",
            "_model_module_version": "1.5.0",
            "_model_name": "HBoxModel",
            "_view_count": null,
            "_view_module": "@jupyter-widgets/controls",
            "_view_module_version": "1.5.0",
            "_view_name": "HBoxView",
            "box_style": "",
            "children": [
              "IPY_MODEL_0866e112af9849738a4b36ade9215ef7",
              "IPY_MODEL_305e4d7281d7482b81ffad5afb94a5ef",
              "IPY_MODEL_953a4aa7aa0d49bc9e3b22bfef185d67"
            ],
            "layout": "IPY_MODEL_05d43edc6308472cb21ebbc1a7c92886"
          }
        },
        "0866e112af9849738a4b36ade9215ef7": {
          "model_module": "@jupyter-widgets/controls",
          "model_name": "HTMLModel",
          "model_module_version": "1.5.0",
          "state": {
            "_dom_classes": [],
            "_model_module": "@jupyter-widgets/controls",
            "_model_module_version": "1.5.0",
            "_model_name": "HTMLModel",
            "_view_count": null,
            "_view_module": "@jupyter-widgets/controls",
            "_view_module_version": "1.5.0",
            "_view_name": "HTMLView",
            "description": "",
            "description_tooltip": null,
            "layout": "IPY_MODEL_2e475b149b7043a69882748cb998a767",
            "placeholder": "​",
            "style": "IPY_MODEL_ce3906150a844462b69a2f1b15b739aa",
            "value": "Processing: 100%"
          }
        },
        "305e4d7281d7482b81ffad5afb94a5ef": {
          "model_module": "@jupyter-widgets/controls",
          "model_name": "FloatProgressModel",
          "model_module_version": "1.5.0",
          "state": {
            "_dom_classes": [],
            "_model_module": "@jupyter-widgets/controls",
            "_model_module_version": "1.5.0",
            "_model_name": "FloatProgressModel",
            "_view_count": null,
            "_view_module": "@jupyter-widgets/controls",
            "_view_module_version": "1.5.0",
            "_view_name": "ProgressView",
            "bar_style": "",
            "description": "",
            "description_tooltip": null,
            "layout": "IPY_MODEL_1a4c4c7f85e6450faccde706c690a269",
            "max": 81,
            "min": 0,
            "orientation": "horizontal",
            "style": "IPY_MODEL_5b7d8bd4a13745e3b647ad220d684093",
            "value": 81
          }
        },
        "953a4aa7aa0d49bc9e3b22bfef185d67": {
          "model_module": "@jupyter-widgets/controls",
          "model_name": "HTMLModel",
          "model_module_version": "1.5.0",
          "state": {
            "_dom_classes": [],
            "_model_module": "@jupyter-widgets/controls",
            "_model_module_version": "1.5.0",
            "_model_name": "HTMLModel",
            "_view_count": null,
            "_view_module": "@jupyter-widgets/controls",
            "_view_module_version": "1.5.0",
            "_view_name": "HTMLView",
            "description": "",
            "description_tooltip": null,
            "layout": "IPY_MODEL_628fc84afc3349a99f26b35c61bf1c38",
            "placeholder": "​",
            "style": "IPY_MODEL_37bbfd4896ae4fdca1379e925495285d",
            "value": " 81/81 [00:41&lt;00:00,  3.26it/s]"
          }
        },
        "05d43edc6308472cb21ebbc1a7c92886": {
          "model_module": "@jupyter-widgets/base",
          "model_name": "LayoutModel",
          "model_module_version": "1.2.0",
          "state": {
            "_model_module": "@jupyter-widgets/base",
            "_model_module_version": "1.2.0",
            "_model_name": "LayoutModel",
            "_view_count": null,
            "_view_module": "@jupyter-widgets/base",
            "_view_module_version": "1.2.0",
            "_view_name": "LayoutView",
            "align_content": null,
            "align_items": null,
            "align_self": null,
            "border": null,
            "bottom": null,
            "display": null,
            "flex": null,
            "flex_flow": null,
            "grid_area": null,
            "grid_auto_columns": null,
            "grid_auto_flow": null,
            "grid_auto_rows": null,
            "grid_column": null,
            "grid_gap": null,
            "grid_row": null,
            "grid_template_areas": null,
            "grid_template_columns": null,
            "grid_template_rows": null,
            "height": null,
            "justify_content": null,
            "justify_items": null,
            "left": null,
            "margin": null,
            "max_height": null,
            "max_width": null,
            "min_height": null,
            "min_width": null,
            "object_fit": null,
            "object_position": null,
            "order": null,
            "overflow": null,
            "overflow_x": null,
            "overflow_y": null,
            "padding": null,
            "right": null,
            "top": null,
            "visibility": "hidden",
            "width": null
          }
        },
        "2e475b149b7043a69882748cb998a767": {
          "model_module": "@jupyter-widgets/base",
          "model_name": "LayoutModel",
          "model_module_version": "1.2.0",
          "state": {
            "_model_module": "@jupyter-widgets/base",
            "_model_module_version": "1.2.0",
            "_model_name": "LayoutModel",
            "_view_count": null,
            "_view_module": "@jupyter-widgets/base",
            "_view_module_version": "1.2.0",
            "_view_name": "LayoutView",
            "align_content": null,
            "align_items": null,
            "align_self": null,
            "border": null,
            "bottom": null,
            "display": null,
            "flex": null,
            "flex_flow": null,
            "grid_area": null,
            "grid_auto_columns": null,
            "grid_auto_flow": null,
            "grid_auto_rows": null,
            "grid_column": null,
            "grid_gap": null,
            "grid_row": null,
            "grid_template_areas": null,
            "grid_template_columns": null,
            "grid_template_rows": null,
            "height": null,
            "justify_content": null,
            "justify_items": null,
            "left": null,
            "margin": null,
            "max_height": null,
            "max_width": null,
            "min_height": null,
            "min_width": null,
            "object_fit": null,
            "object_position": null,
            "order": null,
            "overflow": null,
            "overflow_x": null,
            "overflow_y": null,
            "padding": null,
            "right": null,
            "top": null,
            "visibility": null,
            "width": null
          }
        },
        "ce3906150a844462b69a2f1b15b739aa": {
          "model_module": "@jupyter-widgets/controls",
          "model_name": "DescriptionStyleModel",
          "model_module_version": "1.5.0",
          "state": {
            "_model_module": "@jupyter-widgets/controls",
            "_model_module_version": "1.5.0",
            "_model_name": "DescriptionStyleModel",
            "_view_count": null,
            "_view_module": "@jupyter-widgets/base",
            "_view_module_version": "1.2.0",
            "_view_name": "StyleView",
            "description_width": ""
          }
        },
        "1a4c4c7f85e6450faccde706c690a269": {
          "model_module": "@jupyter-widgets/base",
          "model_name": "LayoutModel",
          "model_module_version": "1.2.0",
          "state": {
            "_model_module": "@jupyter-widgets/base",
            "_model_module_version": "1.2.0",
            "_model_name": "LayoutModel",
            "_view_count": null,
            "_view_module": "@jupyter-widgets/base",
            "_view_module_version": "1.2.0",
            "_view_name": "LayoutView",
            "align_content": null,
            "align_items": null,
            "align_self": null,
            "border": null,
            "bottom": null,
            "display": null,
            "flex": null,
            "flex_flow": null,
            "grid_area": null,
            "grid_auto_columns": null,
            "grid_auto_flow": null,
            "grid_auto_rows": null,
            "grid_column": null,
            "grid_gap": null,
            "grid_row": null,
            "grid_template_areas": null,
            "grid_template_columns": null,
            "grid_template_rows": null,
            "height": null,
            "justify_content": null,
            "justify_items": null,
            "left": null,
            "margin": null,
            "max_height": null,
            "max_width": null,
            "min_height": null,
            "min_width": null,
            "object_fit": null,
            "object_position": null,
            "order": null,
            "overflow": null,
            "overflow_x": null,
            "overflow_y": null,
            "padding": null,
            "right": null,
            "top": null,
            "visibility": null,
            "width": null
          }
        },
        "5b7d8bd4a13745e3b647ad220d684093": {
          "model_module": "@jupyter-widgets/controls",
          "model_name": "ProgressStyleModel",
          "model_module_version": "1.5.0",
          "state": {
            "_model_module": "@jupyter-widgets/controls",
            "_model_module_version": "1.5.0",
            "_model_name": "ProgressStyleModel",
            "_view_count": null,
            "_view_module": "@jupyter-widgets/base",
            "_view_module_version": "1.2.0",
            "_view_name": "StyleView",
            "bar_color": null,
            "description_width": ""
          }
        },
        "628fc84afc3349a99f26b35c61bf1c38": {
          "model_module": "@jupyter-widgets/base",
          "model_name": "LayoutModel",
          "model_module_version": "1.2.0",
          "state": {
            "_model_module": "@jupyter-widgets/base",
            "_model_module_version": "1.2.0",
            "_model_name": "LayoutModel",
            "_view_count": null,
            "_view_module": "@jupyter-widgets/base",
            "_view_module_version": "1.2.0",
            "_view_name": "LayoutView",
            "align_content": null,
            "align_items": null,
            "align_self": null,
            "border": null,
            "bottom": null,
            "display": null,
            "flex": null,
            "flex_flow": null,
            "grid_area": null,
            "grid_auto_columns": null,
            "grid_auto_flow": null,
            "grid_auto_rows": null,
            "grid_column": null,
            "grid_gap": null,
            "grid_row": null,
            "grid_template_areas": null,
            "grid_template_columns": null,
            "grid_template_rows": null,
            "height": null,
            "justify_content": null,
            "justify_items": null,
            "left": null,
            "margin": null,
            "max_height": null,
            "max_width": null,
            "min_height": null,
            "min_width": null,
            "object_fit": null,
            "object_position": null,
            "order": null,
            "overflow": null,
            "overflow_x": null,
            "overflow_y": null,
            "padding": null,
            "right": null,
            "top": null,
            "visibility": null,
            "width": null
          }
        },
        "37bbfd4896ae4fdca1379e925495285d": {
          "model_module": "@jupyter-widgets/controls",
          "model_name": "DescriptionStyleModel",
          "model_module_version": "1.5.0",
          "state": {
            "_model_module": "@jupyter-widgets/controls",
            "_model_module_version": "1.5.0",
            "_model_name": "DescriptionStyleModel",
            "_view_count": null,
            "_view_module": "@jupyter-widgets/base",
            "_view_module_version": "1.2.0",
            "_view_name": "StyleView",
            "description_width": ""
          }
        }
      }
    }
  },
  "cells": [
    {
      "cell_type": "markdown",
      "metadata": {
        "id": "view-in-github",
        "colab_type": "text"
      },
      "source": [
        "<a href=\"https://colab.research.google.com/github/dcnguyen060899/US-Medical-Insurance-Cost-Analysis-Portfolio/blob/main/US_Medical_Insurance_Cost_Predictive_Modeling_Portfolio_(con't).ipynb\" target=\"_parent\"><img src=\"https://colab.research.google.com/assets/colab-badge.svg\" alt=\"Open In Colab\"/></a>"
      ]
    },
    {
      "cell_type": "markdown",
      "source": [
        "# Cost Predictive Modeling:\n",
        "- In this phase, we transition from insightful analysis to practical implementation. Our goal is to construct a robust predictive model that accurately estimates medical expenses. Leveraging advanced techniques and refined features, we aim to provide a powerful tool for informed decision-making in the realm of healthcare costs. This section marks a critical step towards translating our findings into tangible policy recommendations and interventions.\n"
      ],
      "metadata": {
        "id": "2bQkAoXxxqbY"
      }
    },
    {
      "cell_type": "code",
      "execution_count": null,
      "metadata": {
        "colab": {
          "base_uri": "https://localhost:8080/"
        },
        "id": "WGRKnJMTpgSy",
        "outputId": "a3d78064-7bf2-4e1e-ff24-dbcc722b7b26"
      },
      "outputs": [
        {
          "output_type": "stream",
          "name": "stdout",
          "text": [
            "Drive already mounted at /content/drive; to attempt to forcibly remount, call drive.mount(\"/content/drive\", force_remount=True).\n"
          ]
        }
      ],
      "source": [
        "from google.colab import drive\n",
        "drive.mount('/content/drive')\n",
        "\n",
        "import pandas as pd\n",
        "\n",
        "file_path = '/content/drive/My Drive/Codecademy/US Medical Insurance Project/Data/insurance.csv'\n",
        "\n",
        "df = pd.read_csv(file_path)\n",
        "df_copy = df.copy()\n"
      ]
    },
    {
      "cell_type": "markdown",
      "source": [
        "## One Hot Coding"
      ],
      "metadata": {
        "id": "wtVgZP971ppK"
      }
    },
    {
      "cell_type": "code",
      "source": [
        "df = pd.get_dummies(df, columns=['smoker', 'region'])\n",
        "\n",
        "# df['region_northeast'] = 0\n",
        "\n",
        "# # Set 'region_northeast' to 1 where the specified conditions are met\n",
        "# df.loc[(df['region_northwest'] == 0) & (df['region_southeast'] == 0) & (df['region_southwest'] == 0), 'region_northeast'] = 1"
      ],
      "metadata": {
        "id": "Hq2fxwVP064o"
      },
      "execution_count": null,
      "outputs": []
    },
    {
      "cell_type": "code",
      "source": [
        "# drop smoker_no column\n",
        "df = df.drop(columns=['smoker_no'], axis=1)"
      ],
      "metadata": {
        "id": "mWn81PfaKwYn"
      },
      "execution_count": null,
      "outputs": []
    },
    {
      "cell_type": "code",
      "source": [
        "# add smoker columns and region back to the dataframe\n",
        "columns = ['smoker', 'region']\n",
        "\n",
        "for i in range(2):\n",
        "  df[columns[i]] = df_copy[columns[i]]\n"
      ],
      "metadata": {
        "id": "oOalk04S8tlR"
      },
      "execution_count": null,
      "outputs": []
    },
    {
      "cell_type": "code",
      "source": [
        "# create smoker region interaction category feature\n",
        "df['region_smoker_category'] = df['region'] + ' ' + df['smoker_yes'].apply(lambda x: 'Non-smoker' if x == 0 else 'Smoker')\n"
      ],
      "metadata": {
        "id": "v1_reObx9F_1"
      },
      "execution_count": null,
      "outputs": []
    },
    {
      "cell_type": "code",
      "source": [
        "# drop smoker and region columns\n",
        "columns = ['smoker', 'region']\n",
        "for i in range(2):\n",
        "  df = df.drop(columns[i], axis=1)"
      ],
      "metadata": {
        "id": "8eU_C2QT9u5O"
      },
      "execution_count": null,
      "outputs": []
    },
    {
      "cell_type": "code",
      "source": [
        "# one hot coding region smoker category\n",
        "df = pd.get_dummies(df, columns=['region_smoker_category'])"
      ],
      "metadata": {
        "id": "2eKzL0KD9cvd"
      },
      "execution_count": null,
      "outputs": []
    },
    {
      "cell_type": "markdown",
      "source": [
        "### Create Cluster Region Smoker"
      ],
      "metadata": {
        "id": "1pBtfINd-RFD"
      }
    },
    {
      "cell_type": "code",
      "source": [
        "# Import necessary libraries\n",
        "from sklearn.cluster import KMeans\n",
        "import pandas as pd\n",
        "\n",
        "# Assuming you have a DataFrame 'df' with a column 'region' containing geographical data\n",
        "\n",
        "# Extract relevant features for clustering\n",
        "X = df[['region_smoker_category_northeast Non-smoker', 'region_smoker_category_northeast Smoker', \\\n",
        "        'region_smoker_category_northwest Non-smoker', 'region_smoker_category_northwest Smoker', \\\n",
        "        'region_smoker_category_southeast Non-smoker', \t'region_smoker_category_southeast Smoker', \\\n",
        "        'region_smoker_category_southwest Non-smoker', \t'region_smoker_category_southwest Smoker']]\n",
        "\n",
        "# Choose the number of clusters (K)\n",
        "k = 8  # You can adjust this based on your analysis and requirements\n",
        "\n",
        "# Initialize the KMeans model\n",
        "kmeans = KMeans(n_clusters=k, n_init=10, random_state=0)\n",
        "\n",
        "# Fit the model to the data\n",
        "kmeans.fit(X)\n",
        "\n",
        "# Add the cluster labels back to the DataFrame\n",
        "df['cluster_region_smoker'] = kmeans.labels_\n",
        "\n"
      ],
      "metadata": {
        "id": "GAuqXLHl9qFs"
      },
      "execution_count": null,
      "outputs": []
    },
    {
      "cell_type": "markdown",
      "source": [
        "- Cluster 0: southwest non smoker\n",
        "- Cluster 1: northwest non smoker\n",
        "- Cluster 2: southeast non smoker\n",
        "- Cluster 3: northeast non smoker\n",
        "- Cluster 4: southeast smoker\n",
        "- Cluster 5: northeast smoker\n",
        "- Cluster 6: northwest smoker\n",
        "- Cluster 7: southwest smoker\n"
      ],
      "metadata": {
        "id": "pbySqC2M_STx"
      }
    },
    {
      "cell_type": "code",
      "source": [
        "columns = ['region_smoker_category_northeast Non-smoker', 'region_smoker_category_northeast Smoker', \\\n",
        "        'region_smoker_category_northwest Non-smoker', 'region_smoker_category_northwest Smoker', \\\n",
        "        'region_smoker_category_southeast Non-smoker', \t'region_smoker_category_southeast Smoker', \\\n",
        "        'region_smoker_category_southwest Non-smoker', \t'region_smoker_category_southwest Smoker']\n",
        "\n",
        "for i in range(8):\n",
        "  df = df.drop(columns[i], axis=1)"
      ],
      "metadata": {
        "id": "agWWI6Z-EAF4"
      },
      "execution_count": null,
      "outputs": []
    },
    {
      "cell_type": "markdown",
      "source": [
        "### Create Health Risk Score"
      ],
      "metadata": {
        "id": "3vRnst9-Yzdt"
      }
    },
    {
      "cell_type": "code",
      "source": [
        "# Define a function to calculate the Health Risk Score\n",
        "def calculate_health_risk(row):\n",
        "    # Define weights for each factor (you can adjust these based on domain knowledge)\n",
        "    age_weight = 0.135984\n",
        "    bmi_weight = 0.211895\n",
        "    smoker_weight = 0.609883\n",
        "    children_weight = 0.019641\n",
        "\n",
        "    # Define age groups and their corresponding weights\n",
        "    if row['age'] < 18:\n",
        "        age_factor = 0.1\n",
        "    elif 18 <= row['age'] < 40:\n",
        "        age_factor = 0.3\n",
        "    elif 40 <= row['age'] < 65:\n",
        "        age_factor = 0.5\n",
        "    else:\n",
        "        age_factor = 0.7\n",
        "\n",
        "    # Define BMI categories and their corresponding weights\n",
        "    if row['bmi'] < 18.5:\n",
        "        bmi_factor = 0.1\n",
        "    elif 18.5 <= row['bmi'] < 24.99:\n",
        "        bmi_factor = 0.3\n",
        "    elif 24.9 <= row['bmi'] < 29.99:\n",
        "        bmi_factor = 0.5\n",
        "    else:\n",
        "        bmi_factor = 0.7\n",
        "\n",
        "    # Define children factor (scaled to be between 0 and 1)\n",
        "    children_factor = row['children'] / 5\n",
        "\n",
        "    # Calculate the Health Risk Score\n",
        "    health_risk_score = (\n",
        "        age_weight * age_factor +\n",
        "        bmi_weight * bmi_factor +\n",
        "        smoker_weight * row['smoker_yes'] +\n",
        "        children_weight * children_factor\n",
        "    )\n",
        "\n",
        "    return health_risk_score\n",
        "\n",
        "# Apply the function to create the Health Risk Score column\n",
        "df['health_risk_score'] = df.apply(calculate_health_risk, axis=1)\n"
      ],
      "metadata": {
        "id": "cc_Ya3vPYVva"
      },
      "execution_count": null,
      "outputs": []
    },
    {
      "cell_type": "markdown",
      "source": [
        "### Create Family Size Feature"
      ],
      "metadata": {
        "id": "5a14wYZU8trz"
      }
    },
    {
      "cell_type": "code",
      "source": [
        "# Create a new column 'family_size'\n",
        "df['family_size'] = df['children'] + 1  # Add 1 for the individual\n",
        "\n",
        "# Assuming 'sex' is represented as 'male' and 'female'\n",
        "# Create a mapping for sex to numerical values\n",
        "sex_mapping = {'male': 1, 'female': 0}\n",
        "df['sex_male'] = df['sex'].map(sex_mapping)\n",
        "\n",
        "# Assuming 1 represents male and 0 represents female\n",
        "# Family size for male will be the same as for female\n",
        "df['family_size'] = df['family_size'] * df['sex_male']\n",
        "\n",
        "\n",
        "df = df.drop(columns=['sex'], axis=1)\n",
        "df = df.drop(columns=['children'], axis=1)\n",
        "\n",
        "\n",
        "\n"
      ],
      "metadata": {
        "id": "cg031Voj8wHz"
      },
      "execution_count": null,
      "outputs": []
    },
    {
      "cell_type": "markdown",
      "source": [
        "### Create BMI Category Feature"
      ],
      "metadata": {
        "id": "dLeypwvT73-f"
      }
    },
    {
      "cell_type": "code",
      "source": [
        "import numpy as np\n",
        "# Define the BMI categories and corresponding labels\n",
        "bmi_categories = [\n",
        "    (df['bmi'] < 18.5),          # Underweight\n",
        "    (df['bmi'] >= 18.5) & (df['bmi'] < 24.99),  # Normal Weight\n",
        "    (df['bmi'] >= 25) & (df['bmi'] < 29.99),   # Overweight\n",
        "    (df['bmi'] >= 30)              # Obese\n",
        "]\n",
        "\n",
        "# Define labels for the categories\n",
        "bmi_labels = ['Underweight', 'Normal Weight', 'Overweight', 'Obese']\n",
        "\n",
        "# Create a new column 'bmi_category' based on the conditions and labels\n",
        "df['bmi_category'] = np.select(bmi_categories, bmi_labels, default='Unknown')\n",
        "\n",
        "\n"
      ],
      "metadata": {
        "id": "aHZt1Xz22eIR"
      },
      "execution_count": null,
      "outputs": []
    },
    {
      "cell_type": "markdown",
      "source": [
        "### Create Interaction Feature"
      ],
      "metadata": {
        "id": "CqBX-H_C789J"
      }
    },
    {
      "cell_type": "code",
      "source": [
        "df['age_smoker'] = df['age'] * df['smoker_yes']\n",
        "\n",
        "df['bmi_smoker'] = df['bmi'] * df['smoker_yes']\n",
        "\n",
        "\n",
        "df['age_smoker_bmi'] = df['age'] * df['smoker_yes'] * df['bmi']\n",
        "\n",
        "df['family_size_smoker'] = df['family_size'] * df['smoker_yes']\n",
        "\n",
        "\n",
        "df['bmi_category_smoker'] = df['bmi_category'] + ' ' + df['smoker_yes'].apply(lambda x: 'Non-smoker' if x == 0 else 'Smoker')\n",
        "\n"
      ],
      "metadata": {
        "id": "Ej5e_SnZ5kEG"
      },
      "execution_count": null,
      "outputs": []
    },
    {
      "cell_type": "markdown",
      "source": [
        "### Create Cluster Region"
      ],
      "metadata": {
        "id": "KZLggXAMJUGR"
      }
    },
    {
      "cell_type": "code",
      "source": [
        "# Import necessary libraries\n",
        "from sklearn.cluster import KMeans\n",
        "import pandas as pd\n",
        "\n",
        "# Assuming you have a DataFrame 'df' with a column 'region' containing geographical data\n",
        "\n",
        "# Extract relevant features for clustering\n",
        "X = df[['region_northeast', 'region_northwest', 'region_southeast', 'region_southwest']]  # Add relevant features here\n",
        "\n",
        "# Choose the number of clusters (K)\n",
        "k = 4  # You can adjust this based on your analysis and requirements\n",
        "\n",
        "# Initialize the KMeans model\n",
        "kmeans = KMeans(n_clusters=k, n_init=10, random_state=0)\n",
        "\n",
        "# Fit the model to the data\n",
        "kmeans.fit(X)\n",
        "\n",
        "# Add the cluster labels back to the DataFrame\n",
        "df['cluster_region'] = kmeans.labels_\n",
        "\n"
      ],
      "metadata": {
        "id": "bKv_oCNe8VSu"
      },
      "execution_count": null,
      "outputs": []
    },
    {
      "cell_type": "markdown",
      "source": [
        "- cluster 0: region_southwest\n",
        "- cluster 1: region_southeast\n",
        "- cluster 2: region_northwest\n",
        "- cluster 3: region_northease"
      ],
      "metadata": {
        "id": "HB3Dk6cET0kU"
      }
    },
    {
      "cell_type": "code",
      "source": [
        "# Remove redundancy features hence dimension reduction for one hot-coded for region\n",
        "\n",
        "columns = ['region_northeast', 'region_northwest', 'region_southeast', 'region_southwest']\n",
        "for i in range(4):\n",
        "  df = df.drop(columns[i], axis=1)"
      ],
      "metadata": {
        "id": "Q4pF-hgkSTJp"
      },
      "execution_count": null,
      "outputs": []
    },
    {
      "cell_type": "markdown",
      "source": [
        "### Create Cluster BMI Category"
      ],
      "metadata": {
        "id": "wU0VoRfhJefy"
      }
    },
    {
      "cell_type": "code",
      "source": [
        "# One hot Coding bmi category\n",
        "df = pd.get_dummies(df, columns=['bmi_category'], prefix='bmi')\n"
      ],
      "metadata": {
        "id": "F0uQSKocC1cc"
      },
      "execution_count": null,
      "outputs": []
    },
    {
      "cell_type": "code",
      "source": [
        "# cluster bmi category into groups ex: obesity in group 1, vice versa\n",
        "X = df[['bmi_Obese', 'bmi_Overweight', 'bmi_Underweight', 'bmi_Normal Weight']]\n",
        "\n",
        "k = 4\n",
        "\n",
        "kmeans = KMeans(n_clusters=k, n_init=10, random_state=0)\n",
        "kmeans.fit(X)\n",
        "df['cluster_bmi_category'] = kmeans.labels_\n",
        "\n",
        "\n",
        "\n"
      ],
      "metadata": {
        "id": "KYLKY6yXDhie"
      },
      "execution_count": null,
      "outputs": []
    },
    {
      "cell_type": "markdown",
      "source": [
        "- cluster 0: bmi_Normal Weight\n",
        "- cluster 1: bmi_Obese\n",
        "- cluster 2: bmi_Overweight\n",
        "- cluster 3: bmi_Underweight"
      ],
      "metadata": {
        "id": "zqP6t8tZU3lu"
      }
    },
    {
      "cell_type": "code",
      "source": [
        "# drop one hot coded bmi_category feature\n",
        "\n",
        "columns = ['bmi_Normal Weight', 'bmi_Obese', 'bmi_Overweight', 'bmi_Underweight']\n",
        "for i in range(4):\n",
        "  df = df.drop(columns[i], axis=1)\n",
        "\n"
      ],
      "metadata": {
        "id": "C_oVlCZl2vhi"
      },
      "execution_count": null,
      "outputs": []
    },
    {
      "cell_type": "markdown",
      "source": [
        "### Create Cluster BMI Category Smoker"
      ],
      "metadata": {
        "id": "Pesy7nnsMXxN"
      }
    },
    {
      "cell_type": "code",
      "source": [
        "# one hot coding bmi_category_smoker\n",
        "df = pd.get_dummies(df, columns=['bmi_category_smoker'])"
      ],
      "metadata": {
        "id": "3xu2lvYiMSJz"
      },
      "execution_count": null,
      "outputs": []
    },
    {
      "cell_type": "code",
      "source": [
        "X = df[['bmi_category_smoker_Normal Weight Non-smoker', \\\n",
        "       'bmi_category_smoker_Normal Weight Smoker', \\\n",
        "       'bmi_category_smoker_Obese Non-smoker', \\\n",
        "       'bmi_category_smoker_Obese Smoker', \\\n",
        "       'bmi_category_smoker_Overweight Non-smoker', \\\n",
        "       'bmi_category_smoker_Overweight Smoker', \\\n",
        "       'bmi_category_smoker_Underweight Non-smoker', \\\n",
        "       'bmi_category_smoker_Underweight Smoker']]\n",
        "\n",
        "k = 8\n",
        "kmeans = KMeans(n_clusters=k, n_init = 10, random_state=0)\n",
        "kmeans.fit(X)\n",
        "\n",
        "df['cluster_bmi_category_smoker'] = kmeans.labels_\n"
      ],
      "metadata": {
        "id": "m25HMSdnPy0J"
      },
      "execution_count": null,
      "outputs": []
    },
    {
      "cell_type": "markdown",
      "source": [
        "- cluster 0: Normal Weight Non-smoker\n",
        "- cluster 1: Obese Non-smoker\n",
        "- cluster 2: Overweight Non-smoker\n",
        "- cluster 3: Obese Smoker\n",
        "- cluster 4: Overweight Smoker\n",
        "- cluster 5: Normal Weight Smoker\n",
        "- cluster 6: Underweight Non-smoker\n",
        "- cluster 7: Underweight Smoker\n",
        "\n"
      ],
      "metadata": {
        "id": "oTZ7eeYrVlTz"
      }
    },
    {
      "cell_type": "code",
      "source": [
        "columns = ['bmi_category_smoker_Normal Weight Non-smoker', \\\n",
        "       'bmi_category_smoker_Normal Weight Smoker',\\\n",
        "       'bmi_category_smoker_Obese Non-smoker',\\\n",
        "       'bmi_category_smoker_Obese Smoker',\\\n",
        "       'bmi_category_smoker_Overweight Non-smoker',\\\n",
        "       'bmi_category_smoker_Overweight Smoker',\\\n",
        "       'bmi_category_smoker_Underweight Non-smoker',\\\n",
        "       'bmi_category_smoker_Underweight Smoker']\n",
        "\n",
        "for i in range(8):\n",
        "  df = df.drop(columns[i], axis=1)"
      ],
      "metadata": {
        "id": "lHCDLu5pQJm0"
      },
      "execution_count": null,
      "outputs": []
    },
    {
      "cell_type": "markdown",
      "source": [
        "## Build Cost Predictive Model"
      ],
      "metadata": {
        "id": "TmyOXKes0kF2"
      }
    },
    {
      "cell_type": "code",
      "source": [
        "from pycaret.regression import *\n",
        "\n",
        "\n",
        "s = setup(df, target='charges')\n",
        "\n"
      ],
      "metadata": {
        "colab": {
          "base_uri": "https://localhost:8080/",
          "height": 645
        },
        "id": "VgDE34jI0hGk",
        "outputId": "d460e6d4-8449-48b4-d6ed-1ee1bf9a15a0"
      },
      "execution_count": null,
      "outputs": [
        {
          "output_type": "display_data",
          "data": {
            "text/plain": [
              "<pandas.io.formats.style.Styler at 0x7addd7f8d6c0>"
            ],
            "text/html": [
              "<style type=\"text/css\">\n",
              "#T_fddff_row8_col1 {\n",
              "  background-color: lightgreen;\n",
              "}\n",
              "</style>\n",
              "<table id=\"T_fddff\" class=\"dataframe\">\n",
              "  <thead>\n",
              "    <tr>\n",
              "      <th class=\"blank level0\" >&nbsp;</th>\n",
              "      <th id=\"T_fddff_level0_col0\" class=\"col_heading level0 col0\" >Description</th>\n",
              "      <th id=\"T_fddff_level0_col1\" class=\"col_heading level0 col1\" >Value</th>\n",
              "    </tr>\n",
              "  </thead>\n",
              "  <tbody>\n",
              "    <tr>\n",
              "      <th id=\"T_fddff_level0_row0\" class=\"row_heading level0 row0\" >0</th>\n",
              "      <td id=\"T_fddff_row0_col0\" class=\"data row0 col0\" >Session id</td>\n",
              "      <td id=\"T_fddff_row0_col1\" class=\"data row0 col1\" >4227</td>\n",
              "    </tr>\n",
              "    <tr>\n",
              "      <th id=\"T_fddff_level0_row1\" class=\"row_heading level0 row1\" >1</th>\n",
              "      <td id=\"T_fddff_row1_col0\" class=\"data row1 col0\" >Target</td>\n",
              "      <td id=\"T_fddff_row1_col1\" class=\"data row1 col1\" >charges</td>\n",
              "    </tr>\n",
              "    <tr>\n",
              "      <th id=\"T_fddff_level0_row2\" class=\"row_heading level0 row2\" >2</th>\n",
              "      <td id=\"T_fddff_row2_col0\" class=\"data row2 col0\" >Target type</td>\n",
              "      <td id=\"T_fddff_row2_col1\" class=\"data row2 col1\" >Regression</td>\n",
              "    </tr>\n",
              "    <tr>\n",
              "      <th id=\"T_fddff_level0_row3\" class=\"row_heading level0 row3\" >3</th>\n",
              "      <td id=\"T_fddff_row3_col0\" class=\"data row3 col0\" >Original data shape</td>\n",
              "      <td id=\"T_fddff_row3_col1\" class=\"data row3 col1\" >(1338, 15)</td>\n",
              "    </tr>\n",
              "    <tr>\n",
              "      <th id=\"T_fddff_level0_row4\" class=\"row_heading level0 row4\" >4</th>\n",
              "      <td id=\"T_fddff_row4_col0\" class=\"data row4 col0\" >Transformed data shape</td>\n",
              "      <td id=\"T_fddff_row4_col1\" class=\"data row4 col1\" >(1338, 15)</td>\n",
              "    </tr>\n",
              "    <tr>\n",
              "      <th id=\"T_fddff_level0_row5\" class=\"row_heading level0 row5\" >5</th>\n",
              "      <td id=\"T_fddff_row5_col0\" class=\"data row5 col0\" >Transformed train set shape</td>\n",
              "      <td id=\"T_fddff_row5_col1\" class=\"data row5 col1\" >(936, 15)</td>\n",
              "    </tr>\n",
              "    <tr>\n",
              "      <th id=\"T_fddff_level0_row6\" class=\"row_heading level0 row6\" >6</th>\n",
              "      <td id=\"T_fddff_row6_col0\" class=\"data row6 col0\" >Transformed test set shape</td>\n",
              "      <td id=\"T_fddff_row6_col1\" class=\"data row6 col1\" >(402, 15)</td>\n",
              "    </tr>\n",
              "    <tr>\n",
              "      <th id=\"T_fddff_level0_row7\" class=\"row_heading level0 row7\" >7</th>\n",
              "      <td id=\"T_fddff_row7_col0\" class=\"data row7 col0\" >Numeric features</td>\n",
              "      <td id=\"T_fddff_row7_col1\" class=\"data row7 col1\" >14</td>\n",
              "    </tr>\n",
              "    <tr>\n",
              "      <th id=\"T_fddff_level0_row8\" class=\"row_heading level0 row8\" >8</th>\n",
              "      <td id=\"T_fddff_row8_col0\" class=\"data row8 col0\" >Preprocess</td>\n",
              "      <td id=\"T_fddff_row8_col1\" class=\"data row8 col1\" >True</td>\n",
              "    </tr>\n",
              "    <tr>\n",
              "      <th id=\"T_fddff_level0_row9\" class=\"row_heading level0 row9\" >9</th>\n",
              "      <td id=\"T_fddff_row9_col0\" class=\"data row9 col0\" >Imputation type</td>\n",
              "      <td id=\"T_fddff_row9_col1\" class=\"data row9 col1\" >simple</td>\n",
              "    </tr>\n",
              "    <tr>\n",
              "      <th id=\"T_fddff_level0_row10\" class=\"row_heading level0 row10\" >10</th>\n",
              "      <td id=\"T_fddff_row10_col0\" class=\"data row10 col0\" >Numeric imputation</td>\n",
              "      <td id=\"T_fddff_row10_col1\" class=\"data row10 col1\" >mean</td>\n",
              "    </tr>\n",
              "    <tr>\n",
              "      <th id=\"T_fddff_level0_row11\" class=\"row_heading level0 row11\" >11</th>\n",
              "      <td id=\"T_fddff_row11_col0\" class=\"data row11 col0\" >Categorical imputation</td>\n",
              "      <td id=\"T_fddff_row11_col1\" class=\"data row11 col1\" >mode</td>\n",
              "    </tr>\n",
              "    <tr>\n",
              "      <th id=\"T_fddff_level0_row12\" class=\"row_heading level0 row12\" >12</th>\n",
              "      <td id=\"T_fddff_row12_col0\" class=\"data row12 col0\" >Fold Generator</td>\n",
              "      <td id=\"T_fddff_row12_col1\" class=\"data row12 col1\" >KFold</td>\n",
              "    </tr>\n",
              "    <tr>\n",
              "      <th id=\"T_fddff_level0_row13\" class=\"row_heading level0 row13\" >13</th>\n",
              "      <td id=\"T_fddff_row13_col0\" class=\"data row13 col0\" >Fold Number</td>\n",
              "      <td id=\"T_fddff_row13_col1\" class=\"data row13 col1\" >10</td>\n",
              "    </tr>\n",
              "    <tr>\n",
              "      <th id=\"T_fddff_level0_row14\" class=\"row_heading level0 row14\" >14</th>\n",
              "      <td id=\"T_fddff_row14_col0\" class=\"data row14 col0\" >CPU Jobs</td>\n",
              "      <td id=\"T_fddff_row14_col1\" class=\"data row14 col1\" >-1</td>\n",
              "    </tr>\n",
              "    <tr>\n",
              "      <th id=\"T_fddff_level0_row15\" class=\"row_heading level0 row15\" >15</th>\n",
              "      <td id=\"T_fddff_row15_col0\" class=\"data row15 col0\" >Use GPU</td>\n",
              "      <td id=\"T_fddff_row15_col1\" class=\"data row15 col1\" >False</td>\n",
              "    </tr>\n",
              "    <tr>\n",
              "      <th id=\"T_fddff_level0_row16\" class=\"row_heading level0 row16\" >16</th>\n",
              "      <td id=\"T_fddff_row16_col0\" class=\"data row16 col0\" >Log Experiment</td>\n",
              "      <td id=\"T_fddff_row16_col1\" class=\"data row16 col1\" >False</td>\n",
              "    </tr>\n",
              "    <tr>\n",
              "      <th id=\"T_fddff_level0_row17\" class=\"row_heading level0 row17\" >17</th>\n",
              "      <td id=\"T_fddff_row17_col0\" class=\"data row17 col0\" >Experiment Name</td>\n",
              "      <td id=\"T_fddff_row17_col1\" class=\"data row17 col1\" >reg-default-name</td>\n",
              "    </tr>\n",
              "    <tr>\n",
              "      <th id=\"T_fddff_level0_row18\" class=\"row_heading level0 row18\" >18</th>\n",
              "      <td id=\"T_fddff_row18_col0\" class=\"data row18 col0\" >USI</td>\n",
              "      <td id=\"T_fddff_row18_col1\" class=\"data row18 col1\" >fc71</td>\n",
              "    </tr>\n",
              "  </tbody>\n",
              "</table>\n"
            ]
          },
          "metadata": {}
        }
      ]
    },
    {
      "cell_type": "code",
      "source": [
        "# only install library unless you don't have it yet\n",
        "pip install pycaret\n",
        "!pip install --upgrade scipy\n"
      ],
      "metadata": {
        "colab": {
          "base_uri": "https://localhost:8080/"
        },
        "id": "HoGYkk9JrCZP",
        "outputId": "b46b8814-1f53-4163-acbb-095566eefb66"
      },
      "execution_count": null,
      "outputs": [
        {
          "output_type": "stream",
          "name": "stdout",
          "text": [
            "Collecting scipy\n",
            "  Downloading scipy-1.11.3-cp310-cp310-manylinux_2_17_x86_64.manylinux2014_x86_64.whl (36.4 MB)\n",
            "\u001b[2K     \u001b[90m━━━━━━━━━━━━━━━━━━━━━━━━━━━━━━━━━━━━━━━━\u001b[0m \u001b[32m36.4/36.4 MB\u001b[0m \u001b[31m10.1 MB/s\u001b[0m eta \u001b[36m0:00:00\u001b[0m\n",
            "\u001b[?25hRequirement already satisfied: numpy<1.28.0,>=1.21.6 in /usr/local/lib/python3.10/dist-packages (from scipy) (1.23.5)\n",
            "Installing collected packages: scipy\n",
            "  Attempting uninstall: scipy\n",
            "    Found existing installation: scipy 1.10.1\n",
            "    Uninstalling scipy-1.10.1:\n",
            "      Successfully uninstalled scipy-1.10.1\n",
            "\u001b[31mERROR: pip's dependency resolver does not currently take into account all the packages that are installed. This behaviour is the source of the following dependency conflicts.\n",
            "pycaret 3.1.0 requires scipy~=1.10.1, but you have scipy 1.11.3 which is incompatible.\u001b[0m\u001b[31m\n",
            "\u001b[0mSuccessfully installed scipy-1.11.3\n"
          ]
        }
      ]
    },
    {
      "cell_type": "code",
      "source": [
        "# pick the best model\n",
        "best_model = compare_models()"
      ],
      "metadata": {
        "colab": {
          "base_uri": "https://localhost:8080/",
          "height": 645,
          "referenced_widgets": [
            "b35b91d0594e4996a5eec8e4dfe83cd7",
            "0866e112af9849738a4b36ade9215ef7",
            "305e4d7281d7482b81ffad5afb94a5ef",
            "953a4aa7aa0d49bc9e3b22bfef185d67",
            "05d43edc6308472cb21ebbc1a7c92886",
            "2e475b149b7043a69882748cb998a767",
            "ce3906150a844462b69a2f1b15b739aa",
            "1a4c4c7f85e6450faccde706c690a269",
            "5b7d8bd4a13745e3b647ad220d684093",
            "628fc84afc3349a99f26b35c61bf1c38",
            "37bbfd4896ae4fdca1379e925495285d"
          ]
        },
        "id": "Tz_YOVHE8EKo",
        "outputId": "1f1d950c-20be-485b-82b7-2947d42deade"
      },
      "execution_count": null,
      "outputs": [
        {
          "output_type": "display_data",
          "data": {
            "text/plain": [
              "<IPython.core.display.HTML object>"
            ],
            "text/html": []
          },
          "metadata": {}
        },
        {
          "output_type": "display_data",
          "data": {
            "text/plain": [
              "<pandas.io.formats.style.Styler at 0x7addd73166b0>"
            ],
            "text/html": [
              "<style type=\"text/css\">\n",
              "#T_c1404 th {\n",
              "  text-align: left;\n",
              "}\n",
              "#T_c1404_row0_col0, #T_c1404_row0_col1, #T_c1404_row0_col5, #T_c1404_row0_col6, #T_c1404_row1_col0, #T_c1404_row1_col1, #T_c1404_row1_col2, #T_c1404_row1_col3, #T_c1404_row1_col4, #T_c1404_row1_col5, #T_c1404_row1_col6, #T_c1404_row2_col0, #T_c1404_row2_col1, #T_c1404_row2_col2, #T_c1404_row2_col3, #T_c1404_row2_col4, #T_c1404_row2_col5, #T_c1404_row2_col6, #T_c1404_row3_col0, #T_c1404_row3_col1, #T_c1404_row3_col2, #T_c1404_row3_col3, #T_c1404_row3_col4, #T_c1404_row3_col5, #T_c1404_row3_col6, #T_c1404_row4_col0, #T_c1404_row4_col1, #T_c1404_row4_col2, #T_c1404_row4_col3, #T_c1404_row4_col4, #T_c1404_row4_col5, #T_c1404_row4_col6, #T_c1404_row5_col0, #T_c1404_row5_col1, #T_c1404_row5_col2, #T_c1404_row5_col3, #T_c1404_row5_col4, #T_c1404_row5_col5, #T_c1404_row5_col6, #T_c1404_row6_col0, #T_c1404_row6_col1, #T_c1404_row6_col2, #T_c1404_row6_col3, #T_c1404_row6_col4, #T_c1404_row6_col5, #T_c1404_row6_col6, #T_c1404_row7_col0, #T_c1404_row7_col1, #T_c1404_row7_col2, #T_c1404_row7_col3, #T_c1404_row7_col4, #T_c1404_row7_col5, #T_c1404_row7_col6, #T_c1404_row8_col0, #T_c1404_row8_col1, #T_c1404_row8_col2, #T_c1404_row8_col3, #T_c1404_row8_col4, #T_c1404_row8_col5, #T_c1404_row8_col6, #T_c1404_row9_col0, #T_c1404_row9_col2, #T_c1404_row9_col3, #T_c1404_row9_col4, #T_c1404_row10_col0, #T_c1404_row10_col1, #T_c1404_row10_col2, #T_c1404_row10_col3, #T_c1404_row10_col4, #T_c1404_row10_col5, #T_c1404_row10_col6, #T_c1404_row11_col0, #T_c1404_row11_col1, #T_c1404_row11_col2, #T_c1404_row11_col3, #T_c1404_row11_col4, #T_c1404_row11_col5, #T_c1404_row11_col6, #T_c1404_row12_col0, #T_c1404_row12_col1, #T_c1404_row12_col2, #T_c1404_row12_col3, #T_c1404_row12_col4, #T_c1404_row12_col5, #T_c1404_row12_col6, #T_c1404_row13_col0, #T_c1404_row13_col1, #T_c1404_row13_col2, #T_c1404_row13_col3, #T_c1404_row13_col4, #T_c1404_row13_col5, #T_c1404_row13_col6, #T_c1404_row14_col0, #T_c1404_row14_col1, #T_c1404_row14_col2, #T_c1404_row14_col3, #T_c1404_row14_col4, #T_c1404_row14_col5, #T_c1404_row14_col6, #T_c1404_row15_col0, #T_c1404_row15_col1, #T_c1404_row15_col2, #T_c1404_row15_col3, #T_c1404_row15_col4, #T_c1404_row15_col5, #T_c1404_row15_col6, #T_c1404_row16_col0, #T_c1404_row16_col1, #T_c1404_row16_col2, #T_c1404_row16_col3, #T_c1404_row16_col4, #T_c1404_row16_col5, #T_c1404_row16_col6, #T_c1404_row17_col0, #T_c1404_row17_col1, #T_c1404_row17_col2, #T_c1404_row17_col3, #T_c1404_row17_col4, #T_c1404_row17_col5, #T_c1404_row17_col6, #T_c1404_row18_col0, #T_c1404_row18_col1, #T_c1404_row18_col2, #T_c1404_row18_col3, #T_c1404_row18_col4, #T_c1404_row18_col5, #T_c1404_row18_col6 {\n",
              "  text-align: left;\n",
              "}\n",
              "#T_c1404_row0_col2, #T_c1404_row0_col3, #T_c1404_row0_col4, #T_c1404_row9_col1, #T_c1404_row9_col5, #T_c1404_row9_col6 {\n",
              "  text-align: left;\n",
              "  background-color: yellow;\n",
              "}\n",
              "#T_c1404_row0_col7, #T_c1404_row1_col7, #T_c1404_row2_col7, #T_c1404_row3_col7, #T_c1404_row4_col7, #T_c1404_row5_col7, #T_c1404_row6_col7, #T_c1404_row7_col7, #T_c1404_row8_col7, #T_c1404_row9_col7, #T_c1404_row10_col7, #T_c1404_row11_col7, #T_c1404_row12_col7, #T_c1404_row13_col7, #T_c1404_row14_col7, #T_c1404_row15_col7, #T_c1404_row16_col7, #T_c1404_row18_col7 {\n",
              "  text-align: left;\n",
              "  background-color: lightgrey;\n",
              "}\n",
              "#T_c1404_row17_col7 {\n",
              "  text-align: left;\n",
              "  background-color: yellow;\n",
              "  background-color: lightgrey;\n",
              "}\n",
              "</style>\n",
              "<table id=\"T_c1404\" class=\"dataframe\">\n",
              "  <thead>\n",
              "    <tr>\n",
              "      <th class=\"blank level0\" >&nbsp;</th>\n",
              "      <th id=\"T_c1404_level0_col0\" class=\"col_heading level0 col0\" >Model</th>\n",
              "      <th id=\"T_c1404_level0_col1\" class=\"col_heading level0 col1\" >MAE</th>\n",
              "      <th id=\"T_c1404_level0_col2\" class=\"col_heading level0 col2\" >MSE</th>\n",
              "      <th id=\"T_c1404_level0_col3\" class=\"col_heading level0 col3\" >RMSE</th>\n",
              "      <th id=\"T_c1404_level0_col4\" class=\"col_heading level0 col4\" >R2</th>\n",
              "      <th id=\"T_c1404_level0_col5\" class=\"col_heading level0 col5\" >RMSLE</th>\n",
              "      <th id=\"T_c1404_level0_col6\" class=\"col_heading level0 col6\" >MAPE</th>\n",
              "      <th id=\"T_c1404_level0_col7\" class=\"col_heading level0 col7\" >TT (Sec)</th>\n",
              "    </tr>\n",
              "  </thead>\n",
              "  <tbody>\n",
              "    <tr>\n",
              "      <th id=\"T_c1404_level0_row0\" class=\"row_heading level0 row0\" >gbr</th>\n",
              "      <td id=\"T_c1404_row0_col0\" class=\"data row0 col0\" >Gradient Boosting Regressor</td>\n",
              "      <td id=\"T_c1404_row0_col1\" class=\"data row0 col1\" >2688.9668</td>\n",
              "      <td id=\"T_c1404_row0_col2\" class=\"data row0 col2\" >23046908.2397</td>\n",
              "      <td id=\"T_c1404_row0_col3\" class=\"data row0 col3\" >4718.1343</td>\n",
              "      <td id=\"T_c1404_row0_col4\" class=\"data row0 col4\" >0.8415</td>\n",
              "      <td id=\"T_c1404_row0_col5\" class=\"data row0 col5\" >0.4360</td>\n",
              "      <td id=\"T_c1404_row0_col6\" class=\"data row0 col6\" >0.3093</td>\n",
              "      <td id=\"T_c1404_row0_col7\" class=\"data row0 col7\" >0.1930</td>\n",
              "    </tr>\n",
              "    <tr>\n",
              "      <th id=\"T_c1404_level0_row1\" class=\"row_heading level0 row1\" >lr</th>\n",
              "      <td id=\"T_c1404_row1_col0\" class=\"data row1 col0\" >Linear Regression</td>\n",
              "      <td id=\"T_c1404_row1_col1\" class=\"data row1 col1\" >2992.6306</td>\n",
              "      <td id=\"T_c1404_row1_col2\" class=\"data row1 col2\" >23904989.4000</td>\n",
              "      <td id=\"T_c1404_row1_col3\" class=\"data row1 col3\" >4801.5250</td>\n",
              "      <td id=\"T_c1404_row1_col4\" class=\"data row1 col4\" >0.8361</td>\n",
              "      <td id=\"T_c1404_row1_col5\" class=\"data row1 col5\" >0.4274</td>\n",
              "      <td id=\"T_c1404_row1_col6\" class=\"data row1 col6\" >0.3064</td>\n",
              "      <td id=\"T_c1404_row1_col7\" class=\"data row1 col7\" >0.6940</td>\n",
              "    </tr>\n",
              "    <tr>\n",
              "      <th id=\"T_c1404_level0_row2\" class=\"row_heading level0 row2\" >llar</th>\n",
              "      <td id=\"T_c1404_row2_col0\" class=\"data row2 col0\" >Lasso Least Angle Regression</td>\n",
              "      <td id=\"T_c1404_row2_col1\" class=\"data row2 col1\" >2994.4997</td>\n",
              "      <td id=\"T_c1404_row2_col2\" class=\"data row2 col2\" >23914217.5000</td>\n",
              "      <td id=\"T_c1404_row2_col3\" class=\"data row2 col3\" >4802.3528</td>\n",
              "      <td id=\"T_c1404_row2_col4\" class=\"data row2 col4\" >0.8360</td>\n",
              "      <td id=\"T_c1404_row2_col5\" class=\"data row2 col5\" >0.4336</td>\n",
              "      <td id=\"T_c1404_row2_col6\" class=\"data row2 col6\" >0.3058</td>\n",
              "      <td id=\"T_c1404_row2_col7\" class=\"data row2 col7\" >0.0860</td>\n",
              "    </tr>\n",
              "    <tr>\n",
              "      <th id=\"T_c1404_level0_row3\" class=\"row_heading level0 row3\" >lasso</th>\n",
              "      <td id=\"T_c1404_row3_col0\" class=\"data row3 col0\" >Lasso Regression</td>\n",
              "      <td id=\"T_c1404_row3_col1\" class=\"data row3 col1\" >2997.7806</td>\n",
              "      <td id=\"T_c1404_row3_col2\" class=\"data row3 col2\" >23924727.4000</td>\n",
              "      <td id=\"T_c1404_row3_col3\" class=\"data row3 col3\" >4803.3790</td>\n",
              "      <td id=\"T_c1404_row3_col4\" class=\"data row3 col4\" >0.8359</td>\n",
              "      <td id=\"T_c1404_row3_col5\" class=\"data row3 col5\" >0.4339</td>\n",
              "      <td id=\"T_c1404_row3_col6\" class=\"data row3 col6\" >0.3062</td>\n",
              "      <td id=\"T_c1404_row3_col7\" class=\"data row3 col7\" >0.0770</td>\n",
              "    </tr>\n",
              "    <tr>\n",
              "      <th id=\"T_c1404_level0_row4\" class=\"row_heading level0 row4\" >lightgbm</th>\n",
              "      <td id=\"T_c1404_row4_col0\" class=\"data row4 col0\" >Light Gradient Boosting Machine</td>\n",
              "      <td id=\"T_c1404_row4_col1\" class=\"data row4 col1\" >2936.3141</td>\n",
              "      <td id=\"T_c1404_row4_col2\" class=\"data row4 col2\" >24523531.6359</td>\n",
              "      <td id=\"T_c1404_row4_col3\" class=\"data row4 col3\" >4870.2461</td>\n",
              "      <td id=\"T_c1404_row4_col4\" class=\"data row4 col4\" >0.8318</td>\n",
              "      <td id=\"T_c1404_row4_col5\" class=\"data row4 col5\" >0.5281</td>\n",
              "      <td id=\"T_c1404_row4_col6\" class=\"data row4 col6\" >0.3563</td>\n",
              "      <td id=\"T_c1404_row4_col7\" class=\"data row4 col7\" >0.2560</td>\n",
              "    </tr>\n",
              "    <tr>\n",
              "      <th id=\"T_c1404_level0_row5\" class=\"row_heading level0 row5\" >ridge</th>\n",
              "      <td id=\"T_c1404_row5_col0\" class=\"data row5 col0\" >Ridge Regression</td>\n",
              "      <td id=\"T_c1404_row5_col1\" class=\"data row5 col1\" >3068.2132</td>\n",
              "      <td id=\"T_c1404_row5_col2\" class=\"data row5 col2\" >24577705.5000</td>\n",
              "      <td id=\"T_c1404_row5_col3\" class=\"data row5 col3\" >4873.0067</td>\n",
              "      <td id=\"T_c1404_row5_col4\" class=\"data row5 col4\" >0.8311</td>\n",
              "      <td id=\"T_c1404_row5_col5\" class=\"data row5 col5\" >0.4216</td>\n",
              "      <td id=\"T_c1404_row5_col6\" class=\"data row5 col6\" >0.3085</td>\n",
              "      <td id=\"T_c1404_row5_col7\" class=\"data row5 col7\" >0.0750</td>\n",
              "    </tr>\n",
              "    <tr>\n",
              "      <th id=\"T_c1404_level0_row6\" class=\"row_heading level0 row6\" >br</th>\n",
              "      <td id=\"T_c1404_row6_col0\" class=\"data row6 col0\" >Bayesian Ridge</td>\n",
              "      <td id=\"T_c1404_row6_col1\" class=\"data row6 col1\" >3086.0250</td>\n",
              "      <td id=\"T_c1404_row6_col2\" class=\"data row6 col2\" >24820880.7000</td>\n",
              "      <td id=\"T_c1404_row6_col3\" class=\"data row6 col3\" >4898.6751</td>\n",
              "      <td id=\"T_c1404_row6_col4\" class=\"data row6 col4\" >0.8293</td>\n",
              "      <td id=\"T_c1404_row6_col5\" class=\"data row6 col5\" >0.4632</td>\n",
              "      <td id=\"T_c1404_row6_col6\" class=\"data row6 col6\" >0.3183</td>\n",
              "      <td id=\"T_c1404_row6_col7\" class=\"data row6 col7\" >0.0880</td>\n",
              "    </tr>\n",
              "    <tr>\n",
              "      <th id=\"T_c1404_level0_row7\" class=\"row_heading level0 row7\" >en</th>\n",
              "      <td id=\"T_c1404_row7_col0\" class=\"data row7 col0\" >Elastic Net</td>\n",
              "      <td id=\"T_c1404_row7_col1\" class=\"data row7 col1\" >3084.0649</td>\n",
              "      <td id=\"T_c1404_row7_col2\" class=\"data row7 col2\" >24862113.7000</td>\n",
              "      <td id=\"T_c1404_row7_col3\" class=\"data row7 col3\" >4902.3627</td>\n",
              "      <td id=\"T_c1404_row7_col4\" class=\"data row7 col4\" >0.8290</td>\n",
              "      <td id=\"T_c1404_row7_col5\" class=\"data row7 col5\" >0.4302</td>\n",
              "      <td id=\"T_c1404_row7_col6\" class=\"data row7 col6\" >0.3224</td>\n",
              "      <td id=\"T_c1404_row7_col7\" class=\"data row7 col7\" >0.0880</td>\n",
              "    </tr>\n",
              "    <tr>\n",
              "      <th id=\"T_c1404_level0_row8\" class=\"row_heading level0 row8\" >rf</th>\n",
              "      <td id=\"T_c1404_row8_col0\" class=\"data row8 col0\" >Random Forest Regressor</td>\n",
              "      <td id=\"T_c1404_row8_col1\" class=\"data row8 col1\" >2841.7243</td>\n",
              "      <td id=\"T_c1404_row8_col2\" class=\"data row8 col2\" >24876990.0152</td>\n",
              "      <td id=\"T_c1404_row8_col3\" class=\"data row8 col3\" >4915.4690</td>\n",
              "      <td id=\"T_c1404_row8_col4\" class=\"data row8 col4\" >0.8283</td>\n",
              "      <td id=\"T_c1404_row8_col5\" class=\"data row8 col5\" >0.4663</td>\n",
              "      <td id=\"T_c1404_row8_col6\" class=\"data row8 col6\" >0.3360</td>\n",
              "      <td id=\"T_c1404_row8_col7\" class=\"data row8 col7\" >0.3920</td>\n",
              "    </tr>\n",
              "    <tr>\n",
              "      <th id=\"T_c1404_level0_row9\" class=\"row_heading level0 row9\" >huber</th>\n",
              "      <td id=\"T_c1404_row9_col0\" class=\"data row9 col0\" >Huber Regressor</td>\n",
              "      <td id=\"T_c1404_row9_col1\" class=\"data row9 col1\" >2622.8770</td>\n",
              "      <td id=\"T_c1404_row9_col2\" class=\"data row9 col2\" >26328526.0886</td>\n",
              "      <td id=\"T_c1404_row9_col3\" class=\"data row9 col3\" >5033.5417</td>\n",
              "      <td id=\"T_c1404_row9_col4\" class=\"data row9 col4\" >0.8187</td>\n",
              "      <td id=\"T_c1404_row9_col5\" class=\"data row9 col5\" >0.4024</td>\n",
              "      <td id=\"T_c1404_row9_col6\" class=\"data row9 col6\" >0.1893</td>\n",
              "      <td id=\"T_c1404_row9_col7\" class=\"data row9 col7\" >0.0660</td>\n",
              "    </tr>\n",
              "    <tr>\n",
              "      <th id=\"T_c1404_level0_row10\" class=\"row_heading level0 row10\" >et</th>\n",
              "      <td id=\"T_c1404_row10_col0\" class=\"data row10 col0\" >Extra Trees Regressor</td>\n",
              "      <td id=\"T_c1404_row10_col1\" class=\"data row10 col1\" >2878.4977</td>\n",
              "      <td id=\"T_c1404_row10_col2\" class=\"data row10 col2\" >27856598.7242</td>\n",
              "      <td id=\"T_c1404_row10_col3\" class=\"data row10 col3\" >5193.6662</td>\n",
              "      <td id=\"T_c1404_row10_col4\" class=\"data row10 col4\" >0.8071</td>\n",
              "      <td id=\"T_c1404_row10_col5\" class=\"data row10 col5\" >0.4950</td>\n",
              "      <td id=\"T_c1404_row10_col6\" class=\"data row10 col6\" >0.3583</td>\n",
              "      <td id=\"T_c1404_row10_col7\" class=\"data row10 col7\" >0.5360</td>\n",
              "    </tr>\n",
              "    <tr>\n",
              "      <th id=\"T_c1404_level0_row11\" class=\"row_heading level0 row11\" >xgboost</th>\n",
              "      <td id=\"T_c1404_row11_col0\" class=\"data row11 col0\" >Extreme Gradient Boosting</td>\n",
              "      <td id=\"T_c1404_row11_col1\" class=\"data row11 col1\" >3274.6010</td>\n",
              "      <td id=\"T_c1404_row11_col2\" class=\"data row11 col2\" >31071531.1000</td>\n",
              "      <td id=\"T_c1404_row11_col3\" class=\"data row11 col3\" >5517.4617</td>\n",
              "      <td id=\"T_c1404_row11_col4\" class=\"data row11 col4\" >0.7852</td>\n",
              "      <td id=\"T_c1404_row11_col5\" class=\"data row11 col5\" >0.5384</td>\n",
              "      <td id=\"T_c1404_row11_col6\" class=\"data row11 col6\" >0.4003</td>\n",
              "      <td id=\"T_c1404_row11_col7\" class=\"data row11 col7\" >0.1440</td>\n",
              "    </tr>\n",
              "    <tr>\n",
              "      <th id=\"T_c1404_level0_row12\" class=\"row_heading level0 row12\" >ada</th>\n",
              "      <td id=\"T_c1404_row12_col0\" class=\"data row12 col0\" >AdaBoost Regressor</td>\n",
              "      <td id=\"T_c1404_row12_col1\" class=\"data row12 col1\" >4894.5593</td>\n",
              "      <td id=\"T_c1404_row12_col2\" class=\"data row12 col2\" >33461080.6344</td>\n",
              "      <td id=\"T_c1404_row12_col3\" class=\"data row12 col3\" >5755.8721</td>\n",
              "      <td id=\"T_c1404_row12_col4\" class=\"data row12 col4\" >0.7693</td>\n",
              "      <td id=\"T_c1404_row12_col5\" class=\"data row12 col5\" >0.6953</td>\n",
              "      <td id=\"T_c1404_row12_col6\" class=\"data row12 col6\" >0.8797</td>\n",
              "      <td id=\"T_c1404_row12_col7\" class=\"data row12 col7\" >0.1110</td>\n",
              "    </tr>\n",
              "    <tr>\n",
              "      <th id=\"T_c1404_level0_row13\" class=\"row_heading level0 row13\" >knn</th>\n",
              "      <td id=\"T_c1404_row13_col0\" class=\"data row13 col0\" >K Neighbors Regressor</td>\n",
              "      <td id=\"T_c1404_row13_col1\" class=\"data row13 col1\" >3614.4891</td>\n",
              "      <td id=\"T_c1404_row13_col2\" class=\"data row13 col2\" >33492227.6000</td>\n",
              "      <td id=\"T_c1404_row13_col3\" class=\"data row13 col3\" >5735.4224</td>\n",
              "      <td id=\"T_c1404_row13_col4\" class=\"data row13 col4\" >0.7678</td>\n",
              "      <td id=\"T_c1404_row13_col5\" class=\"data row13 col5\" >0.5140</td>\n",
              "      <td id=\"T_c1404_row13_col6\" class=\"data row13 col6\" >0.3828</td>\n",
              "      <td id=\"T_c1404_row13_col7\" class=\"data row13 col7\" >0.0320</td>\n",
              "    </tr>\n",
              "    <tr>\n",
              "      <th id=\"T_c1404_level0_row14\" class=\"row_heading level0 row14\" >dt</th>\n",
              "      <td id=\"T_c1404_row14_col0\" class=\"data row14 col0\" >Decision Tree Regressor</td>\n",
              "      <td id=\"T_c1404_row14_col1\" class=\"data row14 col1\" >3204.4600</td>\n",
              "      <td id=\"T_c1404_row14_col2\" class=\"data row14 col2\" >43353434.9049</td>\n",
              "      <td id=\"T_c1404_row14_col3\" class=\"data row14 col3\" >6518.7905</td>\n",
              "      <td id=\"T_c1404_row14_col4\" class=\"data row14 col4\" >0.6975</td>\n",
              "      <td id=\"T_c1404_row14_col5\" class=\"data row14 col5\" >0.5289</td>\n",
              "      <td id=\"T_c1404_row14_col6\" class=\"data row14 col6\" >0.3710</td>\n",
              "      <td id=\"T_c1404_row14_col7\" class=\"data row14 col7\" >0.0270</td>\n",
              "    </tr>\n",
              "    <tr>\n",
              "      <th id=\"T_c1404_level0_row15\" class=\"row_heading level0 row15\" >omp</th>\n",
              "      <td id=\"T_c1404_row15_col0\" class=\"data row15 col0\" >Orthogonal Matching Pursuit</td>\n",
              "      <td id=\"T_c1404_row15_col1\" class=\"data row15 col1\" >5094.0565</td>\n",
              "      <td id=\"T_c1404_row15_col2\" class=\"data row15 col2\" >44642226.8000</td>\n",
              "      <td id=\"T_c1404_row15_col3\" class=\"data row15 col3\" >6650.7187</td>\n",
              "      <td id=\"T_c1404_row15_col4\" class=\"data row15 col4\" >0.6903</td>\n",
              "      <td id=\"T_c1404_row15_col5\" class=\"data row15 col5\" >0.7057</td>\n",
              "      <td id=\"T_c1404_row15_col6\" class=\"data row15 col6\" >0.8328</td>\n",
              "      <td id=\"T_c1404_row15_col7\" class=\"data row15 col7\" >0.0520</td>\n",
              "    </tr>\n",
              "    <tr>\n",
              "      <th id=\"T_c1404_level0_row16\" class=\"row_heading level0 row16\" >par</th>\n",
              "      <td id=\"T_c1404_row16_col0\" class=\"data row16 col0\" >Passive Aggressive Regressor</td>\n",
              "      <td id=\"T_c1404_row16_col1\" class=\"data row16 col1\" >5440.3426</td>\n",
              "      <td id=\"T_c1404_row16_col2\" class=\"data row16 col2\" >114823591.7844</td>\n",
              "      <td id=\"T_c1404_row16_col3\" class=\"data row16 col3\" >9992.0847</td>\n",
              "      <td id=\"T_c1404_row16_col4\" class=\"data row16 col4\" >0.2574</td>\n",
              "      <td id=\"T_c1404_row16_col5\" class=\"data row16 col5\" >0.5045</td>\n",
              "      <td id=\"T_c1404_row16_col6\" class=\"data row16 col6\" >0.3517</td>\n",
              "      <td id=\"T_c1404_row16_col7\" class=\"data row16 col7\" >0.0280</td>\n",
              "    </tr>\n",
              "    <tr>\n",
              "      <th id=\"T_c1404_level0_row17\" class=\"row_heading level0 row17\" >dummy</th>\n",
              "      <td id=\"T_c1404_row17_col0\" class=\"data row17 col0\" >Dummy Regressor</td>\n",
              "      <td id=\"T_c1404_row17_col1\" class=\"data row17 col1\" >9138.6267</td>\n",
              "      <td id=\"T_c1404_row17_col2\" class=\"data row17 col2\" >147960621.6000</td>\n",
              "      <td id=\"T_c1404_row17_col3\" class=\"data row17 col3\" >12116.6945</td>\n",
              "      <td id=\"T_c1404_row17_col4\" class=\"data row17 col4\" >-0.0078</td>\n",
              "      <td id=\"T_c1404_row17_col5\" class=\"data row17 col5\" >0.9826</td>\n",
              "      <td id=\"T_c1404_row17_col6\" class=\"data row17 col6\" >1.4742</td>\n",
              "      <td id=\"T_c1404_row17_col7\" class=\"data row17 col7\" >0.0230</td>\n",
              "    </tr>\n",
              "    <tr>\n",
              "      <th id=\"T_c1404_level0_row18\" class=\"row_heading level0 row18\" >lar</th>\n",
              "      <td id=\"T_c1404_row18_col0\" class=\"data row18 col0\" >Least Angle Regression</td>\n",
              "      <td id=\"T_c1404_row18_col1\" class=\"data row18 col1\" >14947.1560</td>\n",
              "      <td id=\"T_c1404_row18_col2\" class=\"data row18 col2\" >1187215305.4000</td>\n",
              "      <td id=\"T_c1404_row18_col3\" class=\"data row18 col3\" >19133.8485</td>\n",
              "      <td id=\"T_c1404_row18_col4\" class=\"data row18 col4\" >-7.7697</td>\n",
              "      <td id=\"T_c1404_row18_col5\" class=\"data row18 col5\" >0.7444</td>\n",
              "      <td id=\"T_c1404_row18_col6\" class=\"data row18 col6\" >2.0613</td>\n",
              "      <td id=\"T_c1404_row18_col7\" class=\"data row18 col7\" >0.0980</td>\n",
              "    </tr>\n",
              "  </tbody>\n",
              "</table>\n"
            ]
          },
          "metadata": {}
        },
        {
          "output_type": "display_data",
          "data": {
            "text/plain": [
              "Processing:   0%|          | 0/81 [00:00<?, ?it/s]"
            ],
            "application/vnd.jupyter.widget-view+json": {
              "version_major": 2,
              "version_minor": 0,
              "model_id": "b35b91d0594e4996a5eec8e4dfe83cd7"
            }
          },
          "metadata": {
            "application/vnd.jupyter.widget-view+json": {
              "colab": {
                "custom_widget_manager": {
                  "url": "https://ssl.gstatic.com/colaboratory-static/widgets/colab-cdn-widget-manager/b3e629b1971e1542/manager.min.js"
                }
              }
            }
          }
        },
        {
          "output_type": "display_data",
          "data": {
            "text/plain": [
              "<IPython.core.display.HTML object>"
            ],
            "text/html": []
          },
          "metadata": {}
        }
      ]
    },
    {
      "cell_type": "code",
      "source": [
        "# evaluate model\n",
        "evaluate_model(best_model)"
      ],
      "metadata": {
        "colab": {
          "base_uri": "https://localhost:8080/",
          "height": 547,
          "referenced_widgets": [
            "f0f3bc6c7cf94191b8e27f4d53605452",
            "ace386569ef1454f884c9817f1c4a35a",
            "717311612d664657b6a94e814bd91b02",
            "77b56fb24df147c6b9cfd9a429154303",
            "fa456347d9304b1297d1785deeefcdab",
            "87184468db664790a794c674c1d42176",
            "4fa4e08fa8e84fe88847968f672d2322"
          ]
        },
        "id": "gVF38cu3rfr-",
        "outputId": "6de192dd-37ca-45d3-cd88-8ab13ada7fa5"
      },
      "execution_count": null,
      "outputs": [
        {
          "output_type": "display_data",
          "data": {
            "text/plain": [
              "interactive(children=(ToggleButtons(description='Plot Type:', icons=('',), options=(('Pipeline Plot', 'pipelin…"
            ],
            "application/vnd.jupyter.widget-view+json": {
              "version_major": 2,
              "version_minor": 0,
              "model_id": "f0f3bc6c7cf94191b8e27f4d53605452"
            }
          },
          "metadata": {
            "application/vnd.jupyter.widget-view+json": {
              "colab": {
                "custom_widget_manager": {
                  "url": "https://ssl.gstatic.com/colaboratory-static/widgets/colab-cdn-widget-manager/b3e629b1971e1542/manager.min.js"
                }
              }
            }
          }
        }
      ]
    },
    {
      "cell_type": "code",
      "source": [
        "# store gbr model\n",
        "gbr_model = create_model('gbr')"
      ],
      "metadata": {
        "colab": {
          "base_uri": "https://localhost:8080/",
          "height": 457,
          "referenced_widgets": [
            "d20cef83576b48f4a6690295df5a24ae",
            "751f42fc98f545e59c95f1531bc3b6a9",
            "e74c85fb1aa447a9a927bfcd116fac1c",
            "6d15658f292a42f5b4c4984000eb900d",
            "0b599dd4d367417d997ad172bebc923b",
            "8fe2cc1f44624a3789709615c935b5ae",
            "c55c9bd575934eddac3aa7deb00ecfd7",
            "17cf7e4d0a214df2b41d7ff3d35c9554",
            "e1f87b4c7fc24f7c862de704b8c30e75",
            "bda7f1b5aff64ad4bd0eef6283d5cac7",
            "9207eeb5c3694f55866e03e674650e97"
          ]
        },
        "id": "4I70U40V44XP",
        "outputId": "8dcc5952-afbd-424b-ea55-36923aac82ca"
      },
      "execution_count": null,
      "outputs": [
        {
          "output_type": "display_data",
          "data": {
            "text/plain": [
              "<IPython.core.display.HTML object>"
            ],
            "text/html": []
          },
          "metadata": {}
        },
        {
          "output_type": "display_data",
          "data": {
            "text/plain": [
              "<pandas.io.formats.style.Styler at 0x7adddc143850>"
            ],
            "text/html": [
              "<style type=\"text/css\">\n",
              "#T_3d79b_row10_col0, #T_3d79b_row10_col1, #T_3d79b_row10_col2, #T_3d79b_row10_col3, #T_3d79b_row10_col4, #T_3d79b_row10_col5 {\n",
              "  background: yellow;\n",
              "}\n",
              "</style>\n",
              "<table id=\"T_3d79b\" class=\"dataframe\">\n",
              "  <thead>\n",
              "    <tr>\n",
              "      <th class=\"blank level0\" >&nbsp;</th>\n",
              "      <th id=\"T_3d79b_level0_col0\" class=\"col_heading level0 col0\" >MAE</th>\n",
              "      <th id=\"T_3d79b_level0_col1\" class=\"col_heading level0 col1\" >MSE</th>\n",
              "      <th id=\"T_3d79b_level0_col2\" class=\"col_heading level0 col2\" >RMSE</th>\n",
              "      <th id=\"T_3d79b_level0_col3\" class=\"col_heading level0 col3\" >R2</th>\n",
              "      <th id=\"T_3d79b_level0_col4\" class=\"col_heading level0 col4\" >RMSLE</th>\n",
              "      <th id=\"T_3d79b_level0_col5\" class=\"col_heading level0 col5\" >MAPE</th>\n",
              "    </tr>\n",
              "    <tr>\n",
              "      <th class=\"index_name level0\" >Fold</th>\n",
              "      <th class=\"blank col0\" >&nbsp;</th>\n",
              "      <th class=\"blank col1\" >&nbsp;</th>\n",
              "      <th class=\"blank col2\" >&nbsp;</th>\n",
              "      <th class=\"blank col3\" >&nbsp;</th>\n",
              "      <th class=\"blank col4\" >&nbsp;</th>\n",
              "      <th class=\"blank col5\" >&nbsp;</th>\n",
              "    </tr>\n",
              "  </thead>\n",
              "  <tbody>\n",
              "    <tr>\n",
              "      <th id=\"T_3d79b_level0_row0\" class=\"row_heading level0 row0\" >0</th>\n",
              "      <td id=\"T_3d79b_row0_col0\" class=\"data row0 col0\" >2030.5724</td>\n",
              "      <td id=\"T_3d79b_row0_col1\" class=\"data row0 col1\" >11149396.0503</td>\n",
              "      <td id=\"T_3d79b_row0_col2\" class=\"data row0 col2\" >3339.0711</td>\n",
              "      <td id=\"T_3d79b_row0_col3\" class=\"data row0 col3\" >0.9166</td>\n",
              "      <td id=\"T_3d79b_row0_col4\" class=\"data row0 col4\" >0.3537</td>\n",
              "      <td id=\"T_3d79b_row0_col5\" class=\"data row0 col5\" >0.2908</td>\n",
              "    </tr>\n",
              "    <tr>\n",
              "      <th id=\"T_3d79b_level0_row1\" class=\"row_heading level0 row1\" >1</th>\n",
              "      <td id=\"T_3d79b_row1_col0\" class=\"data row1 col0\" >2818.3142</td>\n",
              "      <td id=\"T_3d79b_row1_col1\" class=\"data row1 col1\" >27759021.7581</td>\n",
              "      <td id=\"T_3d79b_row1_col2\" class=\"data row1 col2\" >5268.6831</td>\n",
              "      <td id=\"T_3d79b_row1_col3\" class=\"data row1 col3\" >0.8133</td>\n",
              "      <td id=\"T_3d79b_row1_col4\" class=\"data row1 col4\" >0.4448</td>\n",
              "      <td id=\"T_3d79b_row1_col5\" class=\"data row1 col5\" >0.2558</td>\n",
              "    </tr>\n",
              "    <tr>\n",
              "      <th id=\"T_3d79b_level0_row2\" class=\"row_heading level0 row2\" >2</th>\n",
              "      <td id=\"T_3d79b_row2_col0\" class=\"data row2 col0\" >2433.6274</td>\n",
              "      <td id=\"T_3d79b_row2_col1\" class=\"data row2 col1\" >15659895.7956</td>\n",
              "      <td id=\"T_3d79b_row2_col2\" class=\"data row2 col2\" >3957.2586</td>\n",
              "      <td id=\"T_3d79b_row2_col3\" class=\"data row2 col3\" >0.9108</td>\n",
              "      <td id=\"T_3d79b_row2_col4\" class=\"data row2 col4\" >0.3730</td>\n",
              "      <td id=\"T_3d79b_row2_col5\" class=\"data row2 col5\" >0.3067</td>\n",
              "    </tr>\n",
              "    <tr>\n",
              "      <th id=\"T_3d79b_level0_row3\" class=\"row_heading level0 row3\" >3</th>\n",
              "      <td id=\"T_3d79b_row3_col0\" class=\"data row3 col0\" >2052.0594</td>\n",
              "      <td id=\"T_3d79b_row3_col1\" class=\"data row3 col1\" >15504570.1434</td>\n",
              "      <td id=\"T_3d79b_row3_col2\" class=\"data row3 col2\" >3937.5843</td>\n",
              "      <td id=\"T_3d79b_row3_col3\" class=\"data row3 col3\" >0.8833</td>\n",
              "      <td id=\"T_3d79b_row3_col4\" class=\"data row3 col4\" >0.3517</td>\n",
              "      <td id=\"T_3d79b_row3_col5\" class=\"data row3 col5\" >0.2205</td>\n",
              "    </tr>\n",
              "    <tr>\n",
              "      <th id=\"T_3d79b_level0_row4\" class=\"row_heading level0 row4\" >4</th>\n",
              "      <td id=\"T_3d79b_row4_col0\" class=\"data row4 col0\" >2704.8689</td>\n",
              "      <td id=\"T_3d79b_row4_col1\" class=\"data row4 col1\" >27717682.9178</td>\n",
              "      <td id=\"T_3d79b_row4_col2\" class=\"data row4 col2\" >5264.7586</td>\n",
              "      <td id=\"T_3d79b_row4_col3\" class=\"data row4 col3\" >0.7551</td>\n",
              "      <td id=\"T_3d79b_row4_col4\" class=\"data row4 col4\" >0.4854</td>\n",
              "      <td id=\"T_3d79b_row4_col5\" class=\"data row4 col5\" >0.3133</td>\n",
              "    </tr>\n",
              "    <tr>\n",
              "      <th id=\"T_3d79b_level0_row5\" class=\"row_heading level0 row5\" >5</th>\n",
              "      <td id=\"T_3d79b_row5_col0\" class=\"data row5 col0\" >2738.7498</td>\n",
              "      <td id=\"T_3d79b_row5_col1\" class=\"data row5 col1\" >22131654.9845</td>\n",
              "      <td id=\"T_3d79b_row5_col2\" class=\"data row5 col2\" >4704.4293</td>\n",
              "      <td id=\"T_3d79b_row5_col3\" class=\"data row5 col3\" >0.8517</td>\n",
              "      <td id=\"T_3d79b_row5_col4\" class=\"data row5 col4\" >0.4478</td>\n",
              "      <td id=\"T_3d79b_row5_col5\" class=\"data row5 col5\" >0.2850</td>\n",
              "    </tr>\n",
              "    <tr>\n",
              "      <th id=\"T_3d79b_level0_row6\" class=\"row_heading level0 row6\" >6</th>\n",
              "      <td id=\"T_3d79b_row6_col0\" class=\"data row6 col0\" >2508.2841</td>\n",
              "      <td id=\"T_3d79b_row6_col1\" class=\"data row6 col1\" >18418512.0678</td>\n",
              "      <td id=\"T_3d79b_row6_col2\" class=\"data row6 col2\" >4291.6794</td>\n",
              "      <td id=\"T_3d79b_row6_col3\" class=\"data row6 col3\" >0.8856</td>\n",
              "      <td id=\"T_3d79b_row6_col4\" class=\"data row6 col4\" >0.4384</td>\n",
              "      <td id=\"T_3d79b_row6_col5\" class=\"data row6 col5\" >0.3112</td>\n",
              "    </tr>\n",
              "    <tr>\n",
              "      <th id=\"T_3d79b_level0_row7\" class=\"row_heading level0 row7\" >7</th>\n",
              "      <td id=\"T_3d79b_row7_col0\" class=\"data row7 col0\" >2726.3557</td>\n",
              "      <td id=\"T_3d79b_row7_col1\" class=\"data row7 col1\" >25290684.8196</td>\n",
              "      <td id=\"T_3d79b_row7_col2\" class=\"data row7 col2\" >5028.9845</td>\n",
              "      <td id=\"T_3d79b_row7_col3\" class=\"data row7 col3\" >0.8248</td>\n",
              "      <td id=\"T_3d79b_row7_col4\" class=\"data row7 col4\" >0.4384</td>\n",
              "      <td id=\"T_3d79b_row7_col5\" class=\"data row7 col5\" >0.3047</td>\n",
              "    </tr>\n",
              "    <tr>\n",
              "      <th id=\"T_3d79b_level0_row8\" class=\"row_heading level0 row8\" >8</th>\n",
              "      <td id=\"T_3d79b_row8_col0\" class=\"data row8 col0\" >2391.4000</td>\n",
              "      <td id=\"T_3d79b_row8_col1\" class=\"data row8 col1\" >18502658.1915</td>\n",
              "      <td id=\"T_3d79b_row8_col2\" class=\"data row8 col2\" >4301.4716</td>\n",
              "      <td id=\"T_3d79b_row8_col3\" class=\"data row8 col3\" >0.8658</td>\n",
              "      <td id=\"T_3d79b_row8_col4\" class=\"data row8 col4\" >0.4293</td>\n",
              "      <td id=\"T_3d79b_row8_col5\" class=\"data row8 col5\" >0.2964</td>\n",
              "    </tr>\n",
              "    <tr>\n",
              "      <th id=\"T_3d79b_level0_row9\" class=\"row_heading level0 row9\" >9</th>\n",
              "      <td id=\"T_3d79b_row9_col0\" class=\"data row9 col0\" >2858.4410</td>\n",
              "      <td id=\"T_3d79b_row9_col1\" class=\"data row9 col1\" >31013412.5152</td>\n",
              "      <td id=\"T_3d79b_row9_col2\" class=\"data row9 col2\" >5568.9687</td>\n",
              "      <td id=\"T_3d79b_row9_col3\" class=\"data row9 col3\" >0.7498</td>\n",
              "      <td id=\"T_3d79b_row9_col4\" class=\"data row9 col4\" >0.4341</td>\n",
              "      <td id=\"T_3d79b_row9_col5\" class=\"data row9 col5\" >0.2594</td>\n",
              "    </tr>\n",
              "    <tr>\n",
              "      <th id=\"T_3d79b_level0_row10\" class=\"row_heading level0 row10\" >Mean</th>\n",
              "      <td id=\"T_3d79b_row10_col0\" class=\"data row10 col0\" >2526.2673</td>\n",
              "      <td id=\"T_3d79b_row10_col1\" class=\"data row10 col1\" >21314748.9244</td>\n",
              "      <td id=\"T_3d79b_row10_col2\" class=\"data row10 col2\" >4566.2889</td>\n",
              "      <td id=\"T_3d79b_row10_col3\" class=\"data row10 col3\" >0.8457</td>\n",
              "      <td id=\"T_3d79b_row10_col4\" class=\"data row10 col4\" >0.4197</td>\n",
              "      <td id=\"T_3d79b_row10_col5\" class=\"data row10 col5\" >0.2844</td>\n",
              "    </tr>\n",
              "    <tr>\n",
              "      <th id=\"T_3d79b_level0_row11\" class=\"row_heading level0 row11\" >Std</th>\n",
              "      <td id=\"T_3d79b_row11_col0\" class=\"data row11 col0\" >284.6743</td>\n",
              "      <td id=\"T_3d79b_row11_col1\" class=\"data row11 col1\" >6151680.0626</td>\n",
              "      <td id=\"T_3d79b_row11_col2\" class=\"data row11 col2\" >680.9951</td>\n",
              "      <td id=\"T_3d79b_row11_col3\" class=\"data row11 col3\" >0.0562</td>\n",
              "      <td id=\"T_3d79b_row11_col4\" class=\"data row11 col4\" >0.0423</td>\n",
              "      <td id=\"T_3d79b_row11_col5\" class=\"data row11 col5\" >0.0286</td>\n",
              "    </tr>\n",
              "  </tbody>\n",
              "</table>\n"
            ]
          },
          "metadata": {}
        },
        {
          "output_type": "display_data",
          "data": {
            "text/plain": [
              "Processing:   0%|          | 0/4 [00:00<?, ?it/s]"
            ],
            "application/vnd.jupyter.widget-view+json": {
              "version_major": 2,
              "version_minor": 0,
              "model_id": "d20cef83576b48f4a6690295df5a24ae"
            }
          },
          "metadata": {
            "application/vnd.jupyter.widget-view+json": {
              "colab": {
                "custom_widget_manager": {
                  "url": "https://ssl.gstatic.com/colaboratory-static/widgets/colab-cdn-widget-manager/b3e629b1971e1542/manager.min.js"
                }
              }
            }
          }
        },
        {
          "output_type": "display_data",
          "data": {
            "text/plain": [
              "<IPython.core.display.HTML object>"
            ],
            "text/html": []
          },
          "metadata": {}
        }
      ]
    },
    {
      "cell_type": "code",
      "source": [
        "# tuned the model\n",
        "tuned_gbr = tune_model(gbr_model)"
      ],
      "metadata": {
        "colab": {
          "base_uri": "https://localhost:8080/",
          "height": 475,
          "referenced_widgets": [
            "cf10d6ba9cf147fda1bc600f0690fa37",
            "c2269333c9d14b25b96914b91832bdd6",
            "58f8904518344c119888b017cfc4f802",
            "28c9fc8a20ed4c5a929c8f858a9a8cd3",
            "b759609e0e89443e9ccb6f9c8e209dde",
            "6eae2d719f78400bb5b4e904fc08067c",
            "af5b7f5472c441baa357048fb4c8a47f",
            "2b9e71f2b54140d18c20eebe8cce3970",
            "c7693cb1025f48f292a08b8b68762159",
            "150f65e3127c4cf5bd698fa77e10781d",
            "ddcb5a5847274346ac5d7d690d88cf17"
          ]
        },
        "id": "QZ6JKxZ-F3E7",
        "outputId": "746ab68c-1f57-4db3-cc56-3a263124ea50"
      },
      "execution_count": null,
      "outputs": [
        {
          "output_type": "display_data",
          "data": {
            "text/plain": [
              "<IPython.core.display.HTML object>"
            ],
            "text/html": []
          },
          "metadata": {}
        },
        {
          "output_type": "display_data",
          "data": {
            "text/plain": [
              "<pandas.io.formats.style.Styler at 0x7adddd4c3880>"
            ],
            "text/html": [
              "<style type=\"text/css\">\n",
              "#T_1cd27_row10_col0, #T_1cd27_row10_col1, #T_1cd27_row10_col2, #T_1cd27_row10_col3, #T_1cd27_row10_col4, #T_1cd27_row10_col5 {\n",
              "  background: yellow;\n",
              "}\n",
              "</style>\n",
              "<table id=\"T_1cd27\" class=\"dataframe\">\n",
              "  <thead>\n",
              "    <tr>\n",
              "      <th class=\"blank level0\" >&nbsp;</th>\n",
              "      <th id=\"T_1cd27_level0_col0\" class=\"col_heading level0 col0\" >MAE</th>\n",
              "      <th id=\"T_1cd27_level0_col1\" class=\"col_heading level0 col1\" >MSE</th>\n",
              "      <th id=\"T_1cd27_level0_col2\" class=\"col_heading level0 col2\" >RMSE</th>\n",
              "      <th id=\"T_1cd27_level0_col3\" class=\"col_heading level0 col3\" >R2</th>\n",
              "      <th id=\"T_1cd27_level0_col4\" class=\"col_heading level0 col4\" >RMSLE</th>\n",
              "      <th id=\"T_1cd27_level0_col5\" class=\"col_heading level0 col5\" >MAPE</th>\n",
              "    </tr>\n",
              "    <tr>\n",
              "      <th class=\"index_name level0\" >Fold</th>\n",
              "      <th class=\"blank col0\" >&nbsp;</th>\n",
              "      <th class=\"blank col1\" >&nbsp;</th>\n",
              "      <th class=\"blank col2\" >&nbsp;</th>\n",
              "      <th class=\"blank col3\" >&nbsp;</th>\n",
              "      <th class=\"blank col4\" >&nbsp;</th>\n",
              "      <th class=\"blank col5\" >&nbsp;</th>\n",
              "    </tr>\n",
              "  </thead>\n",
              "  <tbody>\n",
              "    <tr>\n",
              "      <th id=\"T_1cd27_level0_row0\" class=\"row_heading level0 row0\" >0</th>\n",
              "      <td id=\"T_1cd27_row0_col0\" class=\"data row0 col0\" >2107.7736</td>\n",
              "      <td id=\"T_1cd27_row0_col1\" class=\"data row0 col1\" >10984178.7320</td>\n",
              "      <td id=\"T_1cd27_row0_col2\" class=\"data row0 col2\" >3314.2388</td>\n",
              "      <td id=\"T_1cd27_row0_col3\" class=\"data row0 col3\" >0.9178</td>\n",
              "      <td id=\"T_1cd27_row0_col4\" class=\"data row0 col4\" >0.3779</td>\n",
              "      <td id=\"T_1cd27_row0_col5\" class=\"data row0 col5\" >0.3219</td>\n",
              "    </tr>\n",
              "    <tr>\n",
              "      <th id=\"T_1cd27_level0_row1\" class=\"row_heading level0 row1\" >1</th>\n",
              "      <td id=\"T_1cd27_row1_col0\" class=\"data row1 col0\" >2686.3566</td>\n",
              "      <td id=\"T_1cd27_row1_col1\" class=\"data row1 col1\" >27400410.1675</td>\n",
              "      <td id=\"T_1cd27_row1_col2\" class=\"data row1 col2\" >5234.5401</td>\n",
              "      <td id=\"T_1cd27_row1_col3\" class=\"data row1 col3\" >0.8157</td>\n",
              "      <td id=\"T_1cd27_row1_col4\" class=\"data row1 col4\" >0.4599</td>\n",
              "      <td id=\"T_1cd27_row1_col5\" class=\"data row1 col5\" >0.2557</td>\n",
              "    </tr>\n",
              "    <tr>\n",
              "      <th id=\"T_1cd27_level0_row2\" class=\"row_heading level0 row2\" >2</th>\n",
              "      <td id=\"T_1cd27_row2_col0\" class=\"data row2 col0\" >2346.0581</td>\n",
              "      <td id=\"T_1cd27_row2_col1\" class=\"data row2 col1\" >16066798.2875</td>\n",
              "      <td id=\"T_1cd27_row2_col2\" class=\"data row2 col2\" >4008.3411</td>\n",
              "      <td id=\"T_1cd27_row2_col3\" class=\"data row2 col3\" >0.9085</td>\n",
              "      <td id=\"T_1cd27_row2_col4\" class=\"data row2 col4\" >0.3877</td>\n",
              "      <td id=\"T_1cd27_row2_col5\" class=\"data row2 col5\" >0.3106</td>\n",
              "    </tr>\n",
              "    <tr>\n",
              "      <th id=\"T_1cd27_level0_row3\" class=\"row_heading level0 row3\" >3</th>\n",
              "      <td id=\"T_1cd27_row3_col0\" class=\"data row3 col0\" >2242.7807</td>\n",
              "      <td id=\"T_1cd27_row3_col1\" class=\"data row3 col1\" >16559133.3002</td>\n",
              "      <td id=\"T_1cd27_row3_col2\" class=\"data row3 col2\" >4069.2915</td>\n",
              "      <td id=\"T_1cd27_row3_col3\" class=\"data row3 col3\" >0.8754</td>\n",
              "      <td id=\"T_1cd27_row3_col4\" class=\"data row3 col4\" >0.3700</td>\n",
              "      <td id=\"T_1cd27_row3_col5\" class=\"data row3 col5\" >0.2352</td>\n",
              "    </tr>\n",
              "    <tr>\n",
              "      <th id=\"T_1cd27_level0_row4\" class=\"row_heading level0 row4\" >4</th>\n",
              "      <td id=\"T_1cd27_row4_col0\" class=\"data row4 col0\" >2848.3404</td>\n",
              "      <td id=\"T_1cd27_row4_col1\" class=\"data row4 col1\" >27450068.4771</td>\n",
              "      <td id=\"T_1cd27_row4_col2\" class=\"data row4 col2\" >5239.2813</td>\n",
              "      <td id=\"T_1cd27_row4_col3\" class=\"data row4 col3\" >0.7574</td>\n",
              "      <td id=\"T_1cd27_row4_col4\" class=\"data row4 col4\" >0.4345</td>\n",
              "      <td id=\"T_1cd27_row4_col5\" class=\"data row4 col5\" >0.2904</td>\n",
              "    </tr>\n",
              "    <tr>\n",
              "      <th id=\"T_1cd27_level0_row5\" class=\"row_heading level0 row5\" >5</th>\n",
              "      <td id=\"T_1cd27_row5_col0\" class=\"data row5 col0\" >2738.5487</td>\n",
              "      <td id=\"T_1cd27_row5_col1\" class=\"data row5 col1\" >22043139.1906</td>\n",
              "      <td id=\"T_1cd27_row5_col2\" class=\"data row5 col2\" >4695.0122</td>\n",
              "      <td id=\"T_1cd27_row5_col3\" class=\"data row5 col3\" >0.8523</td>\n",
              "      <td id=\"T_1cd27_row5_col4\" class=\"data row5 col4\" >0.4271</td>\n",
              "      <td id=\"T_1cd27_row5_col5\" class=\"data row5 col5\" >0.2967</td>\n",
              "    </tr>\n",
              "    <tr>\n",
              "      <th id=\"T_1cd27_level0_row6\" class=\"row_heading level0 row6\" >6</th>\n",
              "      <td id=\"T_1cd27_row6_col0\" class=\"data row6 col0\" >2321.3395</td>\n",
              "      <td id=\"T_1cd27_row6_col1\" class=\"data row6 col1\" >16238671.4644</td>\n",
              "      <td id=\"T_1cd27_row6_col2\" class=\"data row6 col2\" >4029.7235</td>\n",
              "      <td id=\"T_1cd27_row6_col3\" class=\"data row6 col3\" >0.8992</td>\n",
              "      <td id=\"T_1cd27_row6_col4\" class=\"data row6 col4\" >0.4059</td>\n",
              "      <td id=\"T_1cd27_row6_col5\" class=\"data row6 col5\" >0.2786</td>\n",
              "    </tr>\n",
              "    <tr>\n",
              "      <th id=\"T_1cd27_level0_row7\" class=\"row_heading level0 row7\" >7</th>\n",
              "      <td id=\"T_1cd27_row7_col0\" class=\"data row7 col0\" >2609.9656</td>\n",
              "      <td id=\"T_1cd27_row7_col1\" class=\"data row7 col1\" >23635904.5897</td>\n",
              "      <td id=\"T_1cd27_row7_col2\" class=\"data row7 col2\" >4861.6771</td>\n",
              "      <td id=\"T_1cd27_row7_col3\" class=\"data row7 col3\" >0.8363</td>\n",
              "      <td id=\"T_1cd27_row7_col4\" class=\"data row7 col4\" >0.4264</td>\n",
              "      <td id=\"T_1cd27_row7_col5\" class=\"data row7 col5\" >0.3215</td>\n",
              "    </tr>\n",
              "    <tr>\n",
              "      <th id=\"T_1cd27_level0_row8\" class=\"row_heading level0 row8\" >8</th>\n",
              "      <td id=\"T_1cd27_row8_col0\" class=\"data row8 col0\" >2252.2429</td>\n",
              "      <td id=\"T_1cd27_row8_col1\" class=\"data row8 col1\" >16725601.1526</td>\n",
              "      <td id=\"T_1cd27_row8_col2\" class=\"data row8 col2\" >4089.6945</td>\n",
              "      <td id=\"T_1cd27_row8_col3\" class=\"data row8 col3\" >0.8787</td>\n",
              "      <td id=\"T_1cd27_row8_col4\" class=\"data row8 col4\" >0.3978</td>\n",
              "      <td id=\"T_1cd27_row8_col5\" class=\"data row8 col5\" >0.2890</td>\n",
              "    </tr>\n",
              "    <tr>\n",
              "      <th id=\"T_1cd27_level0_row9\" class=\"row_heading level0 row9\" >9</th>\n",
              "      <td id=\"T_1cd27_row9_col0\" class=\"data row9 col0\" >2938.7687</td>\n",
              "      <td id=\"T_1cd27_row9_col1\" class=\"data row9 col1\" >30780048.4189</td>\n",
              "      <td id=\"T_1cd27_row9_col2\" class=\"data row9 col2\" >5547.9770</td>\n",
              "      <td id=\"T_1cd27_row9_col3\" class=\"data row9 col3\" >0.7516</td>\n",
              "      <td id=\"T_1cd27_row9_col4\" class=\"data row9 col4\" >0.4603</td>\n",
              "      <td id=\"T_1cd27_row9_col5\" class=\"data row9 col5\" >0.3012</td>\n",
              "    </tr>\n",
              "    <tr>\n",
              "      <th id=\"T_1cd27_level0_row10\" class=\"row_heading level0 row10\" >Mean</th>\n",
              "      <td id=\"T_1cd27_row10_col0\" class=\"data row10 col0\" >2509.2175</td>\n",
              "      <td id=\"T_1cd27_row10_col1\" class=\"data row10 col1\" >20788395.3781</td>\n",
              "      <td id=\"T_1cd27_row10_col2\" class=\"data row10 col2\" >4508.9777</td>\n",
              "      <td id=\"T_1cd27_row10_col3\" class=\"data row10 col3\" >0.8493</td>\n",
              "      <td id=\"T_1cd27_row10_col4\" class=\"data row10 col4\" >0.4147</td>\n",
              "      <td id=\"T_1cd27_row10_col5\" class=\"data row10 col5\" >0.2901</td>\n",
              "    </tr>\n",
              "    <tr>\n",
              "      <th id=\"T_1cd27_level0_row11\" class=\"row_heading level0 row11\" >Std</th>\n",
              "      <td id=\"T_1cd27_row11_col0\" class=\"data row11 col0\" >274.5434</td>\n",
              "      <td id=\"T_1cd27_row11_col1\" class=\"data row11 col1\" >6091974.5136</td>\n",
              "      <td id=\"T_1cd27_row11_col2\" class=\"data row11 col2\" >676.3989</td>\n",
              "      <td id=\"T_1cd27_row11_col3\" class=\"data row11 col3\" >0.0561</td>\n",
              "      <td id=\"T_1cd27_row11_col4\" class=\"data row11 col4\" >0.0304</td>\n",
              "      <td id=\"T_1cd27_row11_col5\" class=\"data row11 col5\" >0.0263</td>\n",
              "    </tr>\n",
              "  </tbody>\n",
              "</table>\n"
            ]
          },
          "metadata": {}
        },
        {
          "output_type": "display_data",
          "data": {
            "text/plain": [
              "Processing:   0%|          | 0/7 [00:00<?, ?it/s]"
            ],
            "application/vnd.jupyter.widget-view+json": {
              "version_major": 2,
              "version_minor": 0,
              "model_id": "cf10d6ba9cf147fda1bc600f0690fa37"
            }
          },
          "metadata": {
            "application/vnd.jupyter.widget-view+json": {
              "colab": {
                "custom_widget_manager": {
                  "url": "https://ssl.gstatic.com/colaboratory-static/widgets/colab-cdn-widget-manager/b3e629b1971e1542/manager.min.js"
                }
              }
            }
          }
        },
        {
          "output_type": "stream",
          "name": "stdout",
          "text": [
            "Fitting 10 folds for each of 10 candidates, totalling 100 fits\n"
          ]
        },
        {
          "output_type": "display_data",
          "data": {
            "text/plain": [
              "<IPython.core.display.HTML object>"
            ],
            "text/html": []
          },
          "metadata": {}
        }
      ]
    },
    {
      "cell_type": "code",
      "source": [
        "X_train_data = get_config('X_train')\n",
        "X_test_data = get_config('X_test')\n",
        "y_train_data = get_config('y_train')\n",
        "y_test_data = get_config('y_test')"
      ],
      "metadata": {
        "id": "OoRqvpjVGPSX"
      },
      "execution_count": null,
      "outputs": []
    },
    {
      "cell_type": "code",
      "source": [
        "predict_model(tuned_gbr)"
      ],
      "metadata": {
        "colab": {
          "base_uri": "https://localhost:8080/",
          "height": 507
        },
        "id": "6qNwSVMw0dap",
        "outputId": "2c401aba-3139-46e8-d4a1-3b11ee2253b1"
      },
      "execution_count": null,
      "outputs": [
        {
          "output_type": "display_data",
          "data": {
            "text/plain": [
              "<pandas.io.formats.style.Styler at 0x7adddd4c0250>"
            ],
            "text/html": [
              "<style type=\"text/css\">\n",
              "</style>\n",
              "<table id=\"T_856b9\" class=\"dataframe\">\n",
              "  <thead>\n",
              "    <tr>\n",
              "      <th class=\"blank level0\" >&nbsp;</th>\n",
              "      <th id=\"T_856b9_level0_col0\" class=\"col_heading level0 col0\" >Model</th>\n",
              "      <th id=\"T_856b9_level0_col1\" class=\"col_heading level0 col1\" >MAE</th>\n",
              "      <th id=\"T_856b9_level0_col2\" class=\"col_heading level0 col2\" >MSE</th>\n",
              "      <th id=\"T_856b9_level0_col3\" class=\"col_heading level0 col3\" >RMSE</th>\n",
              "      <th id=\"T_856b9_level0_col4\" class=\"col_heading level0 col4\" >R2</th>\n",
              "      <th id=\"T_856b9_level0_col5\" class=\"col_heading level0 col5\" >RMSLE</th>\n",
              "      <th id=\"T_856b9_level0_col6\" class=\"col_heading level0 col6\" >MAPE</th>\n",
              "    </tr>\n",
              "  </thead>\n",
              "  <tbody>\n",
              "    <tr>\n",
              "      <th id=\"T_856b9_level0_row0\" class=\"row_heading level0 row0\" >0</th>\n",
              "      <td id=\"T_856b9_row0_col0\" class=\"data row0 col0\" >Gradient Boosting Regressor</td>\n",
              "      <td id=\"T_856b9_row0_col1\" class=\"data row0 col1\" >2586.7369</td>\n",
              "      <td id=\"T_856b9_row0_col2\" class=\"data row0 col2\" >21737635.2559</td>\n",
              "      <td id=\"T_856b9_row0_col3\" class=\"data row0 col3\" >4662.3637</td>\n",
              "      <td id=\"T_856b9_row0_col4\" class=\"data row0 col4\" >0.8608</td>\n",
              "      <td id=\"T_856b9_row0_col5\" class=\"data row0 col5\" >0.4186</td>\n",
              "      <td id=\"T_856b9_row0_col6\" class=\"data row0 col6\" >0.2788</td>\n",
              "    </tr>\n",
              "  </tbody>\n",
              "</table>\n"
            ]
          },
          "metadata": {}
        },
        {
          "output_type": "execute_result",
          "data": {
            "text/plain": [
              "      age        bmi  smoker_yes  cluster_region_smoker  health_risk_score  \\\n",
              "317    54  32.775002           0                      3           0.216319   \n",
              "18     56  40.299999           0                      0           0.216319   \n",
              "615    47  36.630001           1                      4           0.830130   \n",
              "324    29  27.200001           0                      0           0.146743   \n",
              "1085   39  18.299999           1                      7           0.691509   \n",
              "...   ...        ...         ...                    ...                ...   \n",
              "294    25  26.799999           0                      0           0.158527   \n",
              "171    49  30.299999           0                      0           0.216319   \n",
              "879    37  29.500000           0                      0           0.154599   \n",
              "1029   37  17.290001           0                      3           0.069841   \n",
              "370    61  21.090000           0                      1           0.131561   \n",
              "\n",
              "      family_size  sex_male  age_smoker  bmi_smoker  age_smoker_bmi  \\\n",
              "317             1         1           0    0.000000        0.000000   \n",
              "18              1         1           0    0.000000        0.000000   \n",
              "615             0         0          47   36.630001     1721.609985   \n",
              "324             1         1           0    0.000000        0.000000   \n",
              "1085            0         0          39   18.299999      713.700012   \n",
              "...           ...       ...         ...         ...             ...   \n",
              "294             4         1           0    0.000000        0.000000   \n",
              "171             1         1           0    0.000000        0.000000   \n",
              "879             0         0           0    0.000000        0.000000   \n",
              "1029            0         0           0    0.000000        0.000000   \n",
              "370             0         0           0    0.000000        0.000000   \n",
              "\n",
              "      family_size_smoker  cluster_region  cluster_bmi_category  \\\n",
              "317                    0               3                     1   \n",
              "18                     0               0                     1   \n",
              "615                    0               1                     1   \n",
              "324                    0               0                     2   \n",
              "1085                   0               0                     3   \n",
              "...                  ...             ...                   ...   \n",
              "294                    0               0                     2   \n",
              "171                    0               0                     1   \n",
              "879                    0               0                     2   \n",
              "1029                   0               3                     3   \n",
              "370                    0               2                     0   \n",
              "\n",
              "      cluster_bmi_category_smoker       charges  prediction_label  \n",
              "317                             1  10435.065430      12445.411150  \n",
              "18                              1  10602.384766      10956.150115  \n",
              "615                             3  42969.851562      42359.889875  \n",
              "324                             2   2866.091064       4268.591838  \n",
              "1085                            7  19023.259766      15872.906054  \n",
              "...                           ...           ...               ...  \n",
              "294                             2   3906.126953       6329.013135  \n",
              "171                             1   8116.680176       8885.448455  \n",
              "879                             2   6311.952148       6780.240403  \n",
              "1029                            6   6877.979980       7297.650800  \n",
              "370                             0  13415.038086      15039.835342  \n",
              "\n",
              "[402 rows x 16 columns]"
            ],
            "text/html": [
              "\n",
              "  <div id=\"df-a92ff48e-a6fd-40e1-9451-66568fb1eee3\" class=\"colab-df-container\">\n",
              "    <div>\n",
              "<style scoped>\n",
              "    .dataframe tbody tr th:only-of-type {\n",
              "        vertical-align: middle;\n",
              "    }\n",
              "\n",
              "    .dataframe tbody tr th {\n",
              "        vertical-align: top;\n",
              "    }\n",
              "\n",
              "    .dataframe thead th {\n",
              "        text-align: right;\n",
              "    }\n",
              "</style>\n",
              "<table border=\"1\" class=\"dataframe\">\n",
              "  <thead>\n",
              "    <tr style=\"text-align: right;\">\n",
              "      <th></th>\n",
              "      <th>age</th>\n",
              "      <th>bmi</th>\n",
              "      <th>smoker_yes</th>\n",
              "      <th>cluster_region_smoker</th>\n",
              "      <th>health_risk_score</th>\n",
              "      <th>family_size</th>\n",
              "      <th>sex_male</th>\n",
              "      <th>age_smoker</th>\n",
              "      <th>bmi_smoker</th>\n",
              "      <th>age_smoker_bmi</th>\n",
              "      <th>family_size_smoker</th>\n",
              "      <th>cluster_region</th>\n",
              "      <th>cluster_bmi_category</th>\n",
              "      <th>cluster_bmi_category_smoker</th>\n",
              "      <th>charges</th>\n",
              "      <th>prediction_label</th>\n",
              "    </tr>\n",
              "  </thead>\n",
              "  <tbody>\n",
              "    <tr>\n",
              "      <th>317</th>\n",
              "      <td>54</td>\n",
              "      <td>32.775002</td>\n",
              "      <td>0</td>\n",
              "      <td>3</td>\n",
              "      <td>0.216319</td>\n",
              "      <td>1</td>\n",
              "      <td>1</td>\n",
              "      <td>0</td>\n",
              "      <td>0.000000</td>\n",
              "      <td>0.000000</td>\n",
              "      <td>0</td>\n",
              "      <td>3</td>\n",
              "      <td>1</td>\n",
              "      <td>1</td>\n",
              "      <td>10435.065430</td>\n",
              "      <td>12445.411150</td>\n",
              "    </tr>\n",
              "    <tr>\n",
              "      <th>18</th>\n",
              "      <td>56</td>\n",
              "      <td>40.299999</td>\n",
              "      <td>0</td>\n",
              "      <td>0</td>\n",
              "      <td>0.216319</td>\n",
              "      <td>1</td>\n",
              "      <td>1</td>\n",
              "      <td>0</td>\n",
              "      <td>0.000000</td>\n",
              "      <td>0.000000</td>\n",
              "      <td>0</td>\n",
              "      <td>0</td>\n",
              "      <td>1</td>\n",
              "      <td>1</td>\n",
              "      <td>10602.384766</td>\n",
              "      <td>10956.150115</td>\n",
              "    </tr>\n",
              "    <tr>\n",
              "      <th>615</th>\n",
              "      <td>47</td>\n",
              "      <td>36.630001</td>\n",
              "      <td>1</td>\n",
              "      <td>4</td>\n",
              "      <td>0.830130</td>\n",
              "      <td>0</td>\n",
              "      <td>0</td>\n",
              "      <td>47</td>\n",
              "      <td>36.630001</td>\n",
              "      <td>1721.609985</td>\n",
              "      <td>0</td>\n",
              "      <td>1</td>\n",
              "      <td>1</td>\n",
              "      <td>3</td>\n",
              "      <td>42969.851562</td>\n",
              "      <td>42359.889875</td>\n",
              "    </tr>\n",
              "    <tr>\n",
              "      <th>324</th>\n",
              "      <td>29</td>\n",
              "      <td>27.200001</td>\n",
              "      <td>0</td>\n",
              "      <td>0</td>\n",
              "      <td>0.146743</td>\n",
              "      <td>1</td>\n",
              "      <td>1</td>\n",
              "      <td>0</td>\n",
              "      <td>0.000000</td>\n",
              "      <td>0.000000</td>\n",
              "      <td>0</td>\n",
              "      <td>0</td>\n",
              "      <td>2</td>\n",
              "      <td>2</td>\n",
              "      <td>2866.091064</td>\n",
              "      <td>4268.591838</td>\n",
              "    </tr>\n",
              "    <tr>\n",
              "      <th>1085</th>\n",
              "      <td>39</td>\n",
              "      <td>18.299999</td>\n",
              "      <td>1</td>\n",
              "      <td>7</td>\n",
              "      <td>0.691509</td>\n",
              "      <td>0</td>\n",
              "      <td>0</td>\n",
              "      <td>39</td>\n",
              "      <td>18.299999</td>\n",
              "      <td>713.700012</td>\n",
              "      <td>0</td>\n",
              "      <td>0</td>\n",
              "      <td>3</td>\n",
              "      <td>7</td>\n",
              "      <td>19023.259766</td>\n",
              "      <td>15872.906054</td>\n",
              "    </tr>\n",
              "    <tr>\n",
              "      <th>...</th>\n",
              "      <td>...</td>\n",
              "      <td>...</td>\n",
              "      <td>...</td>\n",
              "      <td>...</td>\n",
              "      <td>...</td>\n",
              "      <td>...</td>\n",
              "      <td>...</td>\n",
              "      <td>...</td>\n",
              "      <td>...</td>\n",
              "      <td>...</td>\n",
              "      <td>...</td>\n",
              "      <td>...</td>\n",
              "      <td>...</td>\n",
              "      <td>...</td>\n",
              "      <td>...</td>\n",
              "      <td>...</td>\n",
              "    </tr>\n",
              "    <tr>\n",
              "      <th>294</th>\n",
              "      <td>25</td>\n",
              "      <td>26.799999</td>\n",
              "      <td>0</td>\n",
              "      <td>0</td>\n",
              "      <td>0.158527</td>\n",
              "      <td>4</td>\n",
              "      <td>1</td>\n",
              "      <td>0</td>\n",
              "      <td>0.000000</td>\n",
              "      <td>0.000000</td>\n",
              "      <td>0</td>\n",
              "      <td>0</td>\n",
              "      <td>2</td>\n",
              "      <td>2</td>\n",
              "      <td>3906.126953</td>\n",
              "      <td>6329.013135</td>\n",
              "    </tr>\n",
              "    <tr>\n",
              "      <th>171</th>\n",
              "      <td>49</td>\n",
              "      <td>30.299999</td>\n",
              "      <td>0</td>\n",
              "      <td>0</td>\n",
              "      <td>0.216319</td>\n",
              "      <td>1</td>\n",
              "      <td>1</td>\n",
              "      <td>0</td>\n",
              "      <td>0.000000</td>\n",
              "      <td>0.000000</td>\n",
              "      <td>0</td>\n",
              "      <td>0</td>\n",
              "      <td>1</td>\n",
              "      <td>1</td>\n",
              "      <td>8116.680176</td>\n",
              "      <td>8885.448455</td>\n",
              "    </tr>\n",
              "    <tr>\n",
              "      <th>879</th>\n",
              "      <td>37</td>\n",
              "      <td>29.500000</td>\n",
              "      <td>0</td>\n",
              "      <td>0</td>\n",
              "      <td>0.154599</td>\n",
              "      <td>0</td>\n",
              "      <td>0</td>\n",
              "      <td>0</td>\n",
              "      <td>0.000000</td>\n",
              "      <td>0.000000</td>\n",
              "      <td>0</td>\n",
              "      <td>0</td>\n",
              "      <td>2</td>\n",
              "      <td>2</td>\n",
              "      <td>6311.952148</td>\n",
              "      <td>6780.240403</td>\n",
              "    </tr>\n",
              "    <tr>\n",
              "      <th>1029</th>\n",
              "      <td>37</td>\n",
              "      <td>17.290001</td>\n",
              "      <td>0</td>\n",
              "      <td>3</td>\n",
              "      <td>0.069841</td>\n",
              "      <td>0</td>\n",
              "      <td>0</td>\n",
              "      <td>0</td>\n",
              "      <td>0.000000</td>\n",
              "      <td>0.000000</td>\n",
              "      <td>0</td>\n",
              "      <td>3</td>\n",
              "      <td>3</td>\n",
              "      <td>6</td>\n",
              "      <td>6877.979980</td>\n",
              "      <td>7297.650800</td>\n",
              "    </tr>\n",
              "    <tr>\n",
              "      <th>370</th>\n",
              "      <td>61</td>\n",
              "      <td>21.090000</td>\n",
              "      <td>0</td>\n",
              "      <td>1</td>\n",
              "      <td>0.131561</td>\n",
              "      <td>0</td>\n",
              "      <td>0</td>\n",
              "      <td>0</td>\n",
              "      <td>0.000000</td>\n",
              "      <td>0.000000</td>\n",
              "      <td>0</td>\n",
              "      <td>2</td>\n",
              "      <td>0</td>\n",
              "      <td>0</td>\n",
              "      <td>13415.038086</td>\n",
              "      <td>15039.835342</td>\n",
              "    </tr>\n",
              "  </tbody>\n",
              "</table>\n",
              "<p>402 rows × 16 columns</p>\n",
              "</div>\n",
              "    <div class=\"colab-df-buttons\">\n",
              "\n",
              "  <div class=\"colab-df-container\">\n",
              "    <button class=\"colab-df-convert\" onclick=\"convertToInteractive('df-a92ff48e-a6fd-40e1-9451-66568fb1eee3')\"\n",
              "            title=\"Convert this dataframe to an interactive table.\"\n",
              "            style=\"display:none;\">\n",
              "\n",
              "  <svg xmlns=\"http://www.w3.org/2000/svg\" height=\"24px\" viewBox=\"0 -960 960 960\">\n",
              "    <path d=\"M120-120v-720h720v720H120Zm60-500h600v-160H180v160Zm220 220h160v-160H400v160Zm0 220h160v-160H400v160ZM180-400h160v-160H180v160Zm440 0h160v-160H620v160ZM180-180h160v-160H180v160Zm440 0h160v-160H620v160Z\"/>\n",
              "  </svg>\n",
              "    </button>\n",
              "\n",
              "  <style>\n",
              "    .colab-df-container {\n",
              "      display:flex;\n",
              "      gap: 12px;\n",
              "    }\n",
              "\n",
              "    .colab-df-convert {\n",
              "      background-color: #E8F0FE;\n",
              "      border: none;\n",
              "      border-radius: 50%;\n",
              "      cursor: pointer;\n",
              "      display: none;\n",
              "      fill: #1967D2;\n",
              "      height: 32px;\n",
              "      padding: 0 0 0 0;\n",
              "      width: 32px;\n",
              "    }\n",
              "\n",
              "    .colab-df-convert:hover {\n",
              "      background-color: #E2EBFA;\n",
              "      box-shadow: 0px 1px 2px rgba(60, 64, 67, 0.3), 0px 1px 3px 1px rgba(60, 64, 67, 0.15);\n",
              "      fill: #174EA6;\n",
              "    }\n",
              "\n",
              "    .colab-df-buttons div {\n",
              "      margin-bottom: 4px;\n",
              "    }\n",
              "\n",
              "    [theme=dark] .colab-df-convert {\n",
              "      background-color: #3B4455;\n",
              "      fill: #D2E3FC;\n",
              "    }\n",
              "\n",
              "    [theme=dark] .colab-df-convert:hover {\n",
              "      background-color: #434B5C;\n",
              "      box-shadow: 0px 1px 3px 1px rgba(0, 0, 0, 0.15);\n",
              "      filter: drop-shadow(0px 1px 2px rgba(0, 0, 0, 0.3));\n",
              "      fill: #FFFFFF;\n",
              "    }\n",
              "  </style>\n",
              "\n",
              "    <script>\n",
              "      const buttonEl =\n",
              "        document.querySelector('#df-a92ff48e-a6fd-40e1-9451-66568fb1eee3 button.colab-df-convert');\n",
              "      buttonEl.style.display =\n",
              "        google.colab.kernel.accessAllowed ? 'block' : 'none';\n",
              "\n",
              "      async function convertToInteractive(key) {\n",
              "        const element = document.querySelector('#df-a92ff48e-a6fd-40e1-9451-66568fb1eee3');\n",
              "        const dataTable =\n",
              "          await google.colab.kernel.invokeFunction('convertToInteractive',\n",
              "                                                    [key], {});\n",
              "        if (!dataTable) return;\n",
              "\n",
              "        const docLinkHtml = 'Like what you see? Visit the ' +\n",
              "          '<a target=\"_blank\" href=https://colab.research.google.com/notebooks/data_table.ipynb>data table notebook</a>'\n",
              "          + ' to learn more about interactive tables.';\n",
              "        element.innerHTML = '';\n",
              "        dataTable['output_type'] = 'display_data';\n",
              "        await google.colab.output.renderOutput(dataTable, element);\n",
              "        const docLink = document.createElement('div');\n",
              "        docLink.innerHTML = docLinkHtml;\n",
              "        element.appendChild(docLink);\n",
              "      }\n",
              "    </script>\n",
              "  </div>\n",
              "\n",
              "\n",
              "<div id=\"df-32367b1d-8b5a-48b7-8f79-01451d3e1377\">\n",
              "  <button class=\"colab-df-quickchart\" onclick=\"quickchart('df-32367b1d-8b5a-48b7-8f79-01451d3e1377')\"\n",
              "            title=\"Suggest charts.\"\n",
              "            style=\"display:none;\">\n",
              "\n",
              "<svg xmlns=\"http://www.w3.org/2000/svg\" height=\"24px\"viewBox=\"0 0 24 24\"\n",
              "     width=\"24px\">\n",
              "    <g>\n",
              "        <path d=\"M19 3H5c-1.1 0-2 .9-2 2v14c0 1.1.9 2 2 2h14c1.1 0 2-.9 2-2V5c0-1.1-.9-2-2-2zM9 17H7v-7h2v7zm4 0h-2V7h2v10zm4 0h-2v-4h2v4z\"/>\n",
              "    </g>\n",
              "</svg>\n",
              "  </button>\n",
              "\n",
              "<style>\n",
              "  .colab-df-quickchart {\n",
              "      --bg-color: #E8F0FE;\n",
              "      --fill-color: #1967D2;\n",
              "      --hover-bg-color: #E2EBFA;\n",
              "      --hover-fill-color: #174EA6;\n",
              "      --disabled-fill-color: #AAA;\n",
              "      --disabled-bg-color: #DDD;\n",
              "  }\n",
              "\n",
              "  [theme=dark] .colab-df-quickchart {\n",
              "      --bg-color: #3B4455;\n",
              "      --fill-color: #D2E3FC;\n",
              "      --hover-bg-color: #434B5C;\n",
              "      --hover-fill-color: #FFFFFF;\n",
              "      --disabled-bg-color: #3B4455;\n",
              "      --disabled-fill-color: #666;\n",
              "  }\n",
              "\n",
              "  .colab-df-quickchart {\n",
              "    background-color: var(--bg-color);\n",
              "    border: none;\n",
              "    border-radius: 50%;\n",
              "    cursor: pointer;\n",
              "    display: none;\n",
              "    fill: var(--fill-color);\n",
              "    height: 32px;\n",
              "    padding: 0;\n",
              "    width: 32px;\n",
              "  }\n",
              "\n",
              "  .colab-df-quickchart:hover {\n",
              "    background-color: var(--hover-bg-color);\n",
              "    box-shadow: 0 1px 2px rgba(60, 64, 67, 0.3), 0 1px 3px 1px rgba(60, 64, 67, 0.15);\n",
              "    fill: var(--button-hover-fill-color);\n",
              "  }\n",
              "\n",
              "  .colab-df-quickchart-complete:disabled,\n",
              "  .colab-df-quickchart-complete:disabled:hover {\n",
              "    background-color: var(--disabled-bg-color);\n",
              "    fill: var(--disabled-fill-color);\n",
              "    box-shadow: none;\n",
              "  }\n",
              "\n",
              "  .colab-df-spinner {\n",
              "    border: 2px solid var(--fill-color);\n",
              "    border-color: transparent;\n",
              "    border-bottom-color: var(--fill-color);\n",
              "    animation:\n",
              "      spin 1s steps(1) infinite;\n",
              "  }\n",
              "\n",
              "  @keyframes spin {\n",
              "    0% {\n",
              "      border-color: transparent;\n",
              "      border-bottom-color: var(--fill-color);\n",
              "      border-left-color: var(--fill-color);\n",
              "    }\n",
              "    20% {\n",
              "      border-color: transparent;\n",
              "      border-left-color: var(--fill-color);\n",
              "      border-top-color: var(--fill-color);\n",
              "    }\n",
              "    30% {\n",
              "      border-color: transparent;\n",
              "      border-left-color: var(--fill-color);\n",
              "      border-top-color: var(--fill-color);\n",
              "      border-right-color: var(--fill-color);\n",
              "    }\n",
              "    40% {\n",
              "      border-color: transparent;\n",
              "      border-right-color: var(--fill-color);\n",
              "      border-top-color: var(--fill-color);\n",
              "    }\n",
              "    60% {\n",
              "      border-color: transparent;\n",
              "      border-right-color: var(--fill-color);\n",
              "    }\n",
              "    80% {\n",
              "      border-color: transparent;\n",
              "      border-right-color: var(--fill-color);\n",
              "      border-bottom-color: var(--fill-color);\n",
              "    }\n",
              "    90% {\n",
              "      border-color: transparent;\n",
              "      border-bottom-color: var(--fill-color);\n",
              "    }\n",
              "  }\n",
              "</style>\n",
              "\n",
              "  <script>\n",
              "    async function quickchart(key) {\n",
              "      const quickchartButtonEl =\n",
              "        document.querySelector('#' + key + ' button');\n",
              "      quickchartButtonEl.disabled = true;  // To prevent multiple clicks.\n",
              "      quickchartButtonEl.classList.add('colab-df-spinner');\n",
              "      try {\n",
              "        const charts = await google.colab.kernel.invokeFunction(\n",
              "            'suggestCharts', [key], {});\n",
              "      } catch (error) {\n",
              "        console.error('Error during call to suggestCharts:', error);\n",
              "      }\n",
              "      quickchartButtonEl.classList.remove('colab-df-spinner');\n",
              "      quickchartButtonEl.classList.add('colab-df-quickchart-complete');\n",
              "    }\n",
              "    (() => {\n",
              "      let quickchartButtonEl =\n",
              "        document.querySelector('#df-32367b1d-8b5a-48b7-8f79-01451d3e1377 button');\n",
              "      quickchartButtonEl.style.display =\n",
              "        google.colab.kernel.accessAllowed ? 'block' : 'none';\n",
              "    })();\n",
              "  </script>\n",
              "</div>\n",
              "    </div>\n",
              "  </div>\n"
            ]
          },
          "metadata": {},
          "execution_count": 110
        }
      ]
    },
    {
      "cell_type": "markdown",
      "source": [
        "### Test on unseen synthetic data"
      ],
      "metadata": {
        "id": "CG6VFrzZ2whc"
      }
    },
    {
      "cell_type": "code",
      "source": [
        "# Shuffle the rows randomly\n",
        "shuffled_df = df.sample(frac=1, random_state=42)  # Set random_state for reproducibility\n",
        "\n",
        "# Reset the index of the shuffled DataFrame\n",
        "\n",
        "shuffled_df = shuffled_df.reset_index(drop=True)\n",
        "\n",
        "test_pred = predict_model(tuned_gbr, data=shuffled_df)"
      ],
      "metadata": {
        "colab": {
          "base_uri": "https://localhost:8080/",
          "height": 80
        },
        "id": "l4iLc-BL1rLj",
        "outputId": "106b67d9-5310-4257-e956-3570a8e64c2e"
      },
      "execution_count": null,
      "outputs": [
        {
          "output_type": "display_data",
          "data": {
            "text/plain": [
              "<pandas.io.formats.style.Styler at 0x7adddc3d6c20>"
            ],
            "text/html": [
              "<style type=\"text/css\">\n",
              "</style>\n",
              "<table id=\"T_83d31\" class=\"dataframe\">\n",
              "  <thead>\n",
              "    <tr>\n",
              "      <th class=\"blank level0\" >&nbsp;</th>\n",
              "      <th id=\"T_83d31_level0_col0\" class=\"col_heading level0 col0\" >Model</th>\n",
              "      <th id=\"T_83d31_level0_col1\" class=\"col_heading level0 col1\" >MAE</th>\n",
              "      <th id=\"T_83d31_level0_col2\" class=\"col_heading level0 col2\" >MSE</th>\n",
              "      <th id=\"T_83d31_level0_col3\" class=\"col_heading level0 col3\" >RMSE</th>\n",
              "      <th id=\"T_83d31_level0_col4\" class=\"col_heading level0 col4\" >R2</th>\n",
              "      <th id=\"T_83d31_level0_col5\" class=\"col_heading level0 col5\" >RMSLE</th>\n",
              "      <th id=\"T_83d31_level0_col6\" class=\"col_heading level0 col6\" >MAPE</th>\n",
              "    </tr>\n",
              "  </thead>\n",
              "  <tbody>\n",
              "    <tr>\n",
              "      <th id=\"T_83d31_level0_row0\" class=\"row_heading level0 row0\" >0</th>\n",
              "      <td id=\"T_83d31_row0_col0\" class=\"data row0 col0\" >Gradient Boosting Regressor</td>\n",
              "      <td id=\"T_83d31_row0_col1\" class=\"data row0 col1\" >2386.1464</td>\n",
              "      <td id=\"T_83d31_row0_col2\" class=\"data row0 col2\" >18890145.5372</td>\n",
              "      <td id=\"T_83d31_row0_col3\" class=\"data row0 col3\" >4346.2795</td>\n",
              "      <td id=\"T_83d31_row0_col4\" class=\"data row0 col4\" >0.8711</td>\n",
              "      <td id=\"T_83d31_row0_col5\" class=\"data row0 col5\" >0.3931</td>\n",
              "      <td id=\"T_83d31_row0_col6\" class=\"data row0 col6\" >0.2750</td>\n",
              "    </tr>\n",
              "  </tbody>\n",
              "</table>\n"
            ]
          },
          "metadata": {}
        }
      ]
    },
    {
      "cell_type": "markdown",
      "source": [
        "### Save Model"
      ],
      "metadata": {
        "id": "HFkBCL3S4Lf7"
      }
    },
    {
      "cell_type": "code",
      "source": [
        "save_model(tuned_gbr, \"Cost Predictive Model\")"
      ],
      "metadata": {
        "colab": {
          "base_uri": "https://localhost:8080/"
        },
        "id": "o2T3LA6K4LPW",
        "outputId": "ab68c21b-755a-4631-ca0c-00b6c4109375"
      },
      "execution_count": null,
      "outputs": [
        {
          "output_type": "stream",
          "name": "stdout",
          "text": [
            "Transformation Pipeline and Model Successfully Saved\n"
          ]
        },
        {
          "output_type": "execute_result",
          "data": {
            "text/plain": [
              "(Pipeline(memory=Memory(location=None),\n",
              "          steps=[('numerical_imputer',\n",
              "                  TransformerWrapper(include=['age', 'bmi', 'smoker_yes',\n",
              "                                              'cluster_region_smoker',\n",
              "                                              'health_risk_score', 'family_size',\n",
              "                                              'sex_male', 'age_smoker',\n",
              "                                              'bmi_smoker', 'age_smoker_bmi',\n",
              "                                              'family_size_smoker',\n",
              "                                              'cluster_region',\n",
              "                                              'cluster_bmi_category',\n",
              "                                              'cluster_bmi_category_smoker'],\n",
              "                                     transformer=SimpleImputer())),\n",
              "                 ('categorical_imputer',\n",
              "                  TransformerWrapper(include=[],\n",
              "                                     transformer=SimpleImputer(strategy='most_frequent'))),\n",
              "                 ('trained_model',\n",
              "                  GradientBoostingRegressor(learning_rate=0.15, max_depth=1,\n",
              "                                            max_features=1.0,\n",
              "                                            min_impurity_decrease=0.0001,\n",
              "                                            min_samples_leaf=3,\n",
              "                                            min_samples_split=5,\n",
              "                                            n_estimators=270, random_state=7252,\n",
              "                                            subsample=0.65))]),\n",
              " 'Cost Predictive Model.pkl')"
            ]
          },
          "metadata": {},
          "execution_count": 122
        }
      ]
    },
    {
      "cell_type": "code",
      "source": [
        "final_model = load_model('Cost Predictive Model')"
      ],
      "metadata": {
        "colab": {
          "base_uri": "https://localhost:8080/"
        },
        "id": "KjPsQ7Ci4cjc",
        "outputId": "ea8b38cc-ac01-4f32-aee2-7eb131a71792"
      },
      "execution_count": null,
      "outputs": [
        {
          "output_type": "stream",
          "name": "stdout",
          "text": [
            "Transformation Pipeline and Model Successfully Loaded\n"
          ]
        }
      ]
    },
    {
      "cell_type": "markdown",
      "source": [
        "## Use Cost Predictive Model (Gradient Booster Regressor) for Simulation or modeling to assess the potential impact of lifestyle changes (e.g., smoking cessation, weight reduction) on medical costs\n",
        "\n",
        "\n",
        "### Create Scenario 1 (No Smoking) and Scenario 2 (Reduce BMI):\n",
        "- Compare the predicted medical costs for each scenario with the original medical costs to assess the impact of lifestyle changes.\n",
        "  - Assuming implementing a policy changes by artificially decrease smoking rates and BMI rates\n",
        "    - These rates decrease by:\n",
        "      - Provide Free Eduation on healthy lifestyles to reduce BMI and smoking rates.\n",
        "      - Offer incentives for smoking cessation programs like providing subsidies.\n",
        "      - Promote preventative care and early intervention."
      ],
      "metadata": {
        "id": "PeeVydC64r7P"
      }
    },
    {
      "cell_type": "code",
      "source": [
        "# Scenario 1: Smoking cessation\n",
        "df_sim_scenario_1 = df.copy()  # Make a copy of the original dataset\n",
        "df_sim_scenario_1['smoker_yes'] = 0  # Assuming 0 represents non-smoker\n",
        "rf_preds_scenario_1 = final_model.predict(df_sim_scenario_1.drop('charges', axis=1))\n",
        "medical_cost_difference_scenario_1 = df['charges'] - rf_preds_scenario_1\n",
        "\n",
        "# Scenario 2: Weight reduction\n",
        "df_sim_scenario_2 = df.copy()  # Make a copy of the original dataset\n",
        "df_sim_scenario_2['bmi'] -= 2  # Reduce BMI by 2 points\n",
        "rf_preds_scenario_2 = final_model.predict(df_sim_scenario_2.drop('charges', axis=1))\n",
        "medical_cost_difference_scenario_2 = df['charges'] - rf_preds_scenario_2\n",
        "\n",
        "# Family divorce lead to children seperation/reduction\n",
        "df_sim_scenario_3 = df.copy()  # Make a copy of the original dataset\n",
        "df_sim_scenario_3['family_size'] -= 1  # Reduce BMI by 1 kids\n",
        "rf_preds_scenario_3 = final_model.predict(df_sim_scenario_3.drop('charges', axis=1))\n",
        "medical_cost_difference_scenario_3 = df['charges'] - rf_preds_scenario_3\n",
        "\n",
        "# Predict the next 20 years of age\n",
        "df_sim_scenario_4 = df.copy()  # Make a copy of the original dataset\n",
        "df_sim_scenario_4['age'] += 20  # age addition by 20 y/o\n",
        "rf_preds_scenario_4 = final_model.predict(df_sim_scenario_4.drop('charges', axis=1))\n",
        "medical_cost_difference_scenario_4 = df['charges'] - rf_preds_scenario_4\n",
        "\n",
        "# the US went to war with China and China took out one region in the US\n",
        "df_sim_scenario_5 = df.copy()  # Make a copy of the original dataset\n",
        "df_sim_scenario_5['cluster_region'] -= 1  # took out one region\n",
        "rf_preds_scenario_5 = final_model.predict(df_sim_scenario_5.drop('charges', axis=1))\n",
        "medical_cost_difference_scenario_5 = df['charges'] - rf_preds_scenario_5"
      ],
      "metadata": {
        "id": "TVzUczqW4-fP"
      },
      "execution_count": null,
      "outputs": []
    },
    {
      "cell_type": "markdown",
      "source": [
        "### Visualize the Impact of the Simulation"
      ],
      "metadata": {
        "id": "nMTMHhii5QYA"
      }
    },
    {
      "cell_type": "code",
      "source": [
        "#import matplotlib.pyplot as plt\n",
        "\n",
        "# Plot the original distribution of medical costs\n",
        "plt.hist(df['charges'], bins=20, color='blue', alpha=0.7, label='Original Distribution')\n",
        "\n",
        "# Overlay Scenario 1 (Smoking Cessation)\n",
        "plt.hist(df['charges'] - rf_preds_scenario_1, bins=20, color='red', alpha=0.7, label='Scenario 1 (Smoking Cessation)')\n",
        "\n",
        "# Overlay Scenario 2 (Weight Reduction)\n",
        "plt.hist(df['charges'] - rf_preds_scenario_2, bins=20, color='green', alpha=0.7, label='Scenario 2 (Weight Reduction)')\n",
        "\n",
        "# Overlay Scenario 3 (Smoking and Weightigth Reduction)\n",
        "plt.hist(df['charges'] - rf_preds_scenario_3, bins=20, color='yellow', alpha=0.7, label='Scenario 3 (Family Size Reduction)')\n",
        "\n",
        "# Overlay Scenario 4 (Age Increase)\n",
        "plt.hist(df['charges'] - rf_preds_scenario_4, bins=20, color='black', alpha=0.7, label='Scenario 4 (Age Increase)')\n",
        "\n",
        "#\n",
        "plt.hist(df['charges'] - rf_preds_scenario_5, bins=20, color='Purple', alpha=0.7, label='Scenario 5 (Lost One Region)')\n",
        "\n",
        "plt.xlabel('Change in Medical Costs ($)')\n",
        "plt.ylabel('Frequency')\n",
        "plt.title('Impact of Lifestyle Changes on Medical Costs')\n",
        "plt.legend()\n",
        "plt.show()\n"
      ],
      "metadata": {
        "colab": {
          "base_uri": "https://localhost:8080/",
          "height": 524
        },
        "id": "k7LXl1Vb5NZM",
        "outputId": "36f8d1b0-0d57-4ce1-9b62-c29fa37b9a38"
      },
      "execution_count": null,
      "outputs": [
        {
          "output_type": "display_data",
          "data": {
            "text/plain": [
              "<Figure size 800x550 with 1 Axes>"
            ],
            "image/png": "[encoded data removed]"
          },
          "metadata": {}
        }
      ]
    },
    {
      "cell_type": "markdown",
      "source": [
        "### Feature Important Post Feature Engineered and Selection"
      ],
      "metadata": {
        "id": "d6oPl7KyEPzG"
      }
    },
    {
      "cell_type": "code",
      "source": [
        "from sklearn.ensemble import GradientBoostingRegressor\n",
        "\n",
        "# Assuming you have already trained a GBR model and stored it in 'gbr_model'\n",
        "# If not, you can train it like this:\n",
        "# gbr_model = GradientBoostingRegressor()\n",
        "# gbr_model.fit(X_train_data, y_train_data)\n",
        "\n",
        "# Get feature importances\n",
        "feature_importances = gbr_model.feature_importances_\n",
        "\n",
        "# Get the list of feature names\n",
        "feature_names = X_train_data.columns\n",
        "\n",
        "# Create a DataFrame to store feature importances\n",
        "importance_df = pd.DataFrame({\n",
        "    'Feature': feature_names,\n",
        "    'Importance': feature_importances\n",
        "})\n",
        "\n",
        "# Sort the DataFrame by importance in descending order\n",
        "importance_df = importance_df.sort_values(by='Importance', ascending=False)\n",
        "\n",
        "# Print or visualize the feature importances\n",
        "print(importance_df)\n"
      ],
      "metadata": {
        "colab": {
          "base_uri": "https://localhost:8080/"
        },
        "id": "E1xenga606ww",
        "outputId": "3af4d475-73f0-4ff2-e910-226cba2dfbfc"
      },
      "execution_count": null,
      "outputs": [
        {
          "output_type": "stream",
          "name": "stdout",
          "text": [
            "                        Feature  Importance\n",
            "4             health_risk_score    0.675118\n",
            "9                age_smoker_bmi    0.112355\n",
            "0                           age    0.088539\n",
            "1                           bmi    0.052150\n",
            "8                    bmi_smoker    0.041778\n",
            "3         cluster_region_smoker    0.010237\n",
            "2                    smoker_yes    0.009826\n",
            "7                    age_smoker    0.003381\n",
            "5                   family_size    0.002513\n",
            "11               cluster_region    0.002374\n",
            "6                      sex_male    0.000934\n",
            "13  cluster_bmi_category_smoker    0.000389\n",
            "12         cluster_bmi_category    0.000295\n",
            "10           family_size_smoker    0.000110\n"
          ]
        }
      ]
    },
    {
      "cell_type": "markdown",
      "source": [
        "# **Project Conclusion**"
      ],
      "metadata": {
        "id": "NWLlHE_6EWEG"
      }
    },
    {
      "cell_type": "markdown",
      "source": [
        "**Part 2: Building the Cost Predictive Model**\n",
        "\n",
        "After obtaining the best predictive model, a Gradient Booster Regressor, and performing feature engineering and selection, we now have a refined set of features that significantly impact medical insurance costs:\n",
        "\n",
        "1. **Health Risk Score (0.675118)**: This composite metric, derived from smoking status, BMI, and age, emerges as the most influential predictor of medical costs.\n",
        "\n",
        "2. **Age, BMI, and Smoking Status (0.112355, 0.088539, 0.052150)**: These individual features continue to hold substantial importance, indicating their significant roles in determining medical expenses.\n",
        "\n",
        "3. **Clustered Features (e.g., region, family size, sex) (0.002374 - 0.005819)**: These features, while less impactful individually, still contribute valuable information to the predictive model.\n",
        "\n",
        "**Next Steps:**\n",
        "\n",
        "1. **Model Evaluation**:\n",
        "\n",
        "   - Validate the performance of the Gradient Booster Regressor on a holdout dataset or through cross-validation to ensure its accuracy and generalizability.\n",
        "\n",
        "2. **Simulation and Modeling**:\n",
        "\n",
        "   - Use the trained model to simulate the potential impact of lifestyle changes on medical costs, as outlined in the project scope. Specifically, focus on scenarios involving smoking cessation, weight reduction, and other relevant interventions.\n",
        "\n",
        "3. **Policy Recommendations**:\n",
        "\n",
        "   - Based on the simulation results, provide concrete policy recommendations. For example, consider proposing targeted health promotion campaigns and premium adjustments based on identified risk factors.\n",
        "\n",
        "4. **Validation of Simulations**:\n",
        "\n",
        "   - Validate the simulated results against real-world data or known interventions to assess the reliability of the model's predictions.\n",
        "\n",
        "5. **Cost-Benefit Analysis**:\n",
        "\n",
        "   - Conduct a cost-benefit analysis to evaluate the potential financial implications of implementing the recommended interventions.\n",
        "\n",
        "**Concluding Data Story for Part 2:**\n",
        "\n",
        "*Title: Transforming Healthcare Costs: A Data-Driven Approach*\n",
        "\n",
        "*Introduction*:\n",
        "\n",
        "In this phase, we've harnessed the power of data to delve deeper into the determinants of medical costs. Our refined Gradient Booster Regressor model has unveiled key features that significantly impact healthcare expenses. Let's journey through our findings and their potential implications for shaping a more efficient and equitable healthcare system.\n",
        "\n",
        "*Feature Insights*:\n",
        "\n",
        "Our model highlights the critical role of the Health Risk Score, a composite metric encompassing smoking status, BMI, and age. This score emerges as the linchpin in predicting medical costs. Smoking status, age, and BMI continue to wield substantial influence, affirming their significance in cost determination.\n",
        "\n",
        "*Policy Recommendations*:\n",
        "\n",
        "Armed with these insights, we propose a multi-faceted approach to optimize cost structures and improve health outcomes:\n",
        "\n",
        "1. **Targeted Health Promotion Campaigns**:\n",
        "   - Tailor interventions for specific demographic groups to proactively address healthcare needs and potentially reduce charges.\n",
        "\n",
        "2. **Premium Adjustments**:\n",
        "   - Consider aligning insurance premiums with identified risk factors, with a special focus on smoking habits.\n",
        "\n",
        "3. **Policy Changes**:\n",
        "   - Investigate systemic factors influencing medical expenses and explore policy changes for cost efficiencies.\n",
        "\n",
        "*Simulation and Modeling*:\n",
        "\n",
        "Our model empowers us to simulate the impact of lifestyle changes. By focusing on smoking cessation and weight reduction, we can forecast potential cost savings and health improvements.\n",
        "\n",
        "*Conclusion*:\n",
        "\n",
        "Through rigorous data analysis and advanced modeling techniques, we've unraveled the intricate web of factors influencing medical costs. Armed with these insights, we stand at the precipice of transformative change, poised to drive policy decisions that enhance both health outcomes and financial efficiency within the U.S. healthcare system.\n",
        "\n",
        "*End Note*:\n",
        "\n",
        "This marks the culmination of Part 2. The journey from data exploration to modeling has equipped us with actionable insights, poised to drive informed policy changes. Stay tuned for the final installment, where we consolidate our findings and present a comprehensive roadmap for a more sustainable and effective healthcare landscape."
      ],
      "metadata": {
        "id": "5nh1dgc5Ewrx"
      }
    },
    {
      "cell_type": "code",
      "source": [],
      "metadata": {
        "id": "EdUeF5AlEsNu"
      },
      "execution_count": null,
      "outputs": []
    }
  ]
}